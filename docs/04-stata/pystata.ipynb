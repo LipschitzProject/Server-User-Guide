{
 "cells": [
  {
   "cell_type": "markdown",
   "metadata": {},
   "source": [
    "# PyStata Example\n",
    "\n",
    "- Author: Wenzhi Ding\n",
    "- Date: 2022-07-06\n",
    "\n",
    "This notebook is an example for using PyStata in Jupyter."
   ]
  },
  {
   "cell_type": "code",
   "execution_count": 10,
   "metadata": {},
   "outputs": [],
   "source": [
    "import pandas as pd\n",
    "import seaborn as sns\n",
    "import stata_setup\n",
    "\n",
    "stata_setup.config('/usr/local/stata17', 'mp')"
   ]
  },
  {
   "cell_type": "code",
   "execution_count": 2,
   "metadata": {},
   "outputs": [
    {
     "data": {
      "text/plain": [
       "(244, 7)"
      ]
     },
     "execution_count": 2,
     "metadata": {},
     "output_type": "execute_result"
    },
    {
     "data": {
      "text/html": [
       "<div>\n",
       "<style scoped>\n",
       "    .dataframe tbody tr th:only-of-type {\n",
       "        vertical-align: middle;\n",
       "    }\n",
       "\n",
       "    .dataframe tbody tr th {\n",
       "        vertical-align: top;\n",
       "    }\n",
       "\n",
       "    .dataframe thead th {\n",
       "        text-align: right;\n",
       "    }\n",
       "</style>\n",
       "<table border=\"1\" class=\"dataframe\">\n",
       "  <thead>\n",
       "    <tr style=\"text-align: right;\">\n",
       "      <th></th>\n",
       "      <th>total_bill</th>\n",
       "      <th>tip</th>\n",
       "      <th>sex</th>\n",
       "      <th>smoker</th>\n",
       "      <th>day</th>\n",
       "      <th>time</th>\n",
       "      <th>size</th>\n",
       "    </tr>\n",
       "  </thead>\n",
       "  <tbody>\n",
       "    <tr>\n",
       "      <th>230</th>\n",
       "      <td>24.01</td>\n",
       "      <td>2.0</td>\n",
       "      <td>Male</td>\n",
       "      <td>Yes</td>\n",
       "      <td>Sat</td>\n",
       "      <td>Dinner</td>\n",
       "      <td>4</td>\n",
       "    </tr>\n",
       "    <tr>\n",
       "      <th>29</th>\n",
       "      <td>19.65</td>\n",
       "      <td>3.0</td>\n",
       "      <td>Female</td>\n",
       "      <td>No</td>\n",
       "      <td>Sat</td>\n",
       "      <td>Dinner</td>\n",
       "      <td>2</td>\n",
       "    </tr>\n",
       "    <tr>\n",
       "      <th>102</th>\n",
       "      <td>44.30</td>\n",
       "      <td>2.5</td>\n",
       "      <td>Female</td>\n",
       "      <td>Yes</td>\n",
       "      <td>Sat</td>\n",
       "      <td>Dinner</td>\n",
       "      <td>3</td>\n",
       "    </tr>\n",
       "  </tbody>\n",
       "</table>\n",
       "</div>"
      ],
      "text/plain": [
       "     total_bill  tip     sex smoker  day    time  size\n",
       "230       24.01  2.0    Male    Yes  Sat  Dinner     4\n",
       "29        19.65  3.0  Female     No  Sat  Dinner     2\n",
       "102       44.30  2.5  Female    Yes  Sat  Dinner     3"
      ]
     },
     "execution_count": 2,
     "metadata": {},
     "output_type": "execute_result"
    }
   ],
   "source": [
    "df = sns.load_dataset('tips')\n",
    "df.shape\n",
    "df.sample(3)"
   ]
  },
  {
   "cell_type": "markdown",
   "metadata": {},
   "source": [
    "## Install Packages"
   ]
  },
  {
   "cell_type": "code",
   "execution_count": 3,
   "metadata": {},
   "outputs": [
    {
     "name": "stdout",
     "output_type": "stream",
     "text": [
      "\n",
      ". ssc install reghdfe\n",
      "checking reghdfe consistency and verifying not already installed...\n",
      "all files already exist and are up to date.\n",
      "\n",
      ". ssc install ftools\n",
      "checking ftools consistency and verifying not already installed...\n",
      "all files already exist and are up to date.\n",
      "\n",
      ". \n"
     ]
    }
   ],
   "source": [
    "%%stata\n",
    "ssc install reghdfe\n",
    "ssc install ftools"
   ]
  },
  {
   "cell_type": "markdown",
   "metadata": {},
   "source": [
    "## Browse Manual"
   ]
  },
  {
   "cell_type": "code",
   "execution_count": 4,
   "metadata": {},
   "outputs": [
    {
     "name": "stdout",
     "output_type": "stream",
     "text": [
      "\n",
      "-------------------------------------------------------------------------------\n",
      "help for winsor2                                                         (blog)\n",
      "-------------------------------------------------------------------------------\n",
      "\n",
      "Winsorizing or Trimming variables\n",
      "---------------------------------\n",
      "\n",
      "\n",
      "Syntax\n",
      "------\n",
      "\n",
      "    winsor2 varlist [if] [in], [ suffix(string) replace trim cuts(# #)\n",
      "                   by(groupvar) label ]\n",
      "\n",
      "\n",
      "Description\n",
      "-----------\n",
      "\n",
      "    winsor2 winsorize or trim (if trim option is specified) the variables in \n",
      "    varlist at particular percentiles specified by option cuts(#1 #2).  In\n",
      "    defult, new variables will be generated with a suffix \"_w\" or \"_tr\",\n",
      "    which can be changed by specifying suffix() option.  The replace option\n",
      "    replaces the variables with their winsorized or trimmed ones.\n",
      "\n",
      "        +---------------------------------------------+\n",
      "    ----+ Difference between winsorizing and trimming +----------------------\n",
      "\n",
      "    Winsorizing is not equivalent to simply excluding data, which is a\n",
      "    simpler procedure, called trimming or truncation.  In a trimmed\n",
      "    estimator, the extreme values are discarded; in a Winsorized estimator,\n",
      "    the extreme values are instead replaced by certain percentiles, specified\n",
      "    by option cuts(# #).  For details, see winsor (if installed), trimmean\n",
      "    (if installed).\n",
      "\n",
      "    For example, you type the following commands to get the 1th and 99th\n",
      "    percentiles of variable wage, 1.930993 and 38.70926, respectively.\n",
      "\n",
      "        . sysuse nlsw88, clear\n",
      "        . sum wage, detail\n",
      "\n",
      "    In defult, winsor2 winsorize wage at 1th and 99th percentiles,\n",
      "\n",
      "        . winsor2 wage, replace cuts(1 99)\n",
      "\n",
      "    which can be done by hands:\n",
      "\n",
      "        . replace wage=1.930993 if wage<1.930993\n",
      "        . replace wage=38.70926 if wage>38.70926\n",
      "\n",
      "    Note that, values smaller than the 1th percentile is repalce by the 1th\n",
      "    percentile, and the similar thing is done with the 99th percentile.\n",
      "\n",
      "    Things change when -trim- option is specified:\n",
      "\n",
      "        . winsor2 wage, replace cuts(1 99) trim\n",
      "\n",
      "    which can also be done by hands:\n",
      "\n",
      "        . replace wage=. if wage<1.930993\n",
      "        . replace wage=. if wage>38.70926\n",
      "\n",
      "    In this case, we discard values smaller than 1th percentile or greater\n",
      "    than 99th percentile.  This is trimming.\n",
      "\n",
      "\n",
      "Options\n",
      "-------\n",
      "\n",
      "    suffix(string) specifies the suffix of the new variables. The defult is\n",
      "        \"_w\" or \"_tr\" (when trim specified).\n",
      "\n",
      "    replace replaces the variables with their winsorized or trimmed\n",
      "        counterpart.  Can not be specified with suffix(string).\n",
      "\n",
      "    trim trims the variables.\n",
      "\n",
      "    cuts(# #) specifies the percentiles at which the data is winsorized or\n",
      "        trimmed.  cuts(1 99) (the default) means winsor (trim) at 1th and\n",
      "        99th percentile. Specify cuts(1 99) or cuts(99 1) makes no\n",
      "        difference.\n",
      "\n",
      "    by(groupvar) the winsor or trim is done within each group specified by\n",
      "        groupvar.\n",
      "\n",
      "\n",
      "Examples\n",
      "--------\n",
      "\n",
      "        *- winsor at (p1 p99), get new variable \"wage_w\"\n",
      "        .  sysuse nlsw88, clear\n",
      "        .  winsor2 wage\n",
      "\n",
      "        *- winsor 3 variables at 0.5th and 99.5th percentiles, and overwrite\n",
      "            the old variables\n",
      "        .  winsor2 wage age hours, cuts(0.5 99.5) replace\n",
      "\n",
      "        *- winsor 3 variables at (p1 p99), gen new variables with suffix\n",
      "            _win, and add variable labels\n",
      "        .  winsor2 wage age hours, suffix(_win) label\n",
      "\n",
      "        *- left-winsorizing only, at 1th percentile\n",
      "        .  winsor2 wage, cuts(1 100)\n",
      "\n",
      "        *- right-trimming only, at 99th percentile\n",
      "        .  winsor2 wage, cuts(0 99) trim\n",
      "\n",
      "        *- winsor variables at (p1 p99) by (industry), overwrite the old\n",
      "            variables\n",
      "        .  winsor2 wage hours, replace by(industry)\n",
      "\n",
      "\n",
      "References\n",
      "----------\n",
      "\n",
      "    Anonymous. 1951. In memoriam: Charles P. Winsor.  Biometrics 7: 221.\n",
      "\n",
      "    Barnett, V. and Lewis, T. 1994. Outliers in statistical data.\n",
      "        Chichester: John Wiley. [Previous editions 1978, 1984.]\n",
      "\n",
      "    Tukey, J.W. 1962. The future of data analysis.  Annals of Mathematical\n",
      "        Statistics 33: 1-67.\n",
      "\n",
      "\n",
      "Acknowledgements\n",
      "----------------\n",
      "\n",
      "    Codes from winsor by Nicholas J. Cox and -winsorizeJ.ado- by Judson\n",
      "        Caskey have been incorporated.\n",
      "\n",
      "Author\n",
      "------\n",
      "\n",
      "    Yujun,Lian (arlionn) Department of Finance, Lingnan College, Sun Yat-Sen\n",
      "        University.\n",
      "        E-mail: arlionn@163.com.\n",
      "        Blog: https://www.lianxh.cn\n",
      "\n",
      "\n",
      "Other Commands I have written\n",
      "-----------------------------\n",
      "\n",
      "\n",
      "    lianxh (if installed)            ssc install lianxh (to install)\n",
      "    bdiff (if installed)             ssc install bdiff (to install)\n",
      "    hhi5 (if installed)              ssc install hhi5 (to install)\n",
      "    uall (if installed)              ssc install uall (to install)\n",
      "    xtbalance (if installed)         ssc install xtbalance (to install)\n",
      "\n",
      "\n",
      "Also see\n",
      "--------\n",
      "\n",
      "    Online:  summarize, means, winsor (if installed), trimplot (if\n",
      "             installed), trimmean (if installed), iqr (if installed), robmean\n",
      "             (if installed)\n",
      "\n",
      ". "
     ]
    }
   ],
   "source": [
    "%%stata\n",
    "help winsor2"
   ]
  },
  {
   "cell_type": "markdown",
   "metadata": {},
   "source": [
    "## Define Macros\n",
    "\n",
    "For example, I define the explanatory variables I will use later."
   ]
  },
  {
   "cell_type": "code",
   "execution_count": 5,
   "metadata": {},
   "outputs": [],
   "source": [
    "%%stata\n",
    "global X \"total_bill size\""
   ]
  },
  {
   "cell_type": "markdown",
   "metadata": {},
   "source": [
    "## Run Regression\n",
    "\n",
    "All parameters are optional:\n",
    "- Data input: `df`\n",
    "- Force update data\n",
    "    - Otherwise Stata will use the latest data in memory\n",
    "    - If you pretty sure you do not change the data, it will be faster to use the data in memory instead of forcing update.\n",
    "- Estimation result output: `eret`\n",
    "- Data output: `df2`\n",
    "\n",
    "For more details, please refer to `%%stata?`"
   ]
  },
  {
   "cell_type": "code",
   "execution_count": 6,
   "metadata": {},
   "outputs": [
    {
     "name": "stdout",
     "output_type": "stream",
     "text": [
      "\n",
      ". reghdfe tip $X, a(sex time day smoker) vce(cluster time)\n",
      "(MWFE estimator converged in 5 iterations)\n",
      "warning: missing F statistic; dropped variables due to collinearity or too few \n",
      "> clusters\n",
      "\n",
      "HDFE Linear regression                            Number of obs   =        244\n",
      "Absorbing 4 HDFE groups                           F(   2,      1) =          .\n",
      "Statistics robust to heteroskedasticity           Prob > F        =          .\n",
      "                                                  R-squared       =     0.4701\n",
      "                                                  Adj R-squared   =     0.4497\n",
      "                                                  Within R-sq.    =     0.4551\n",
      "Number of clusters (time)    =          2         Root MSE        =     1.0264\n",
      "\n",
      "                                   (Std. err. adjusted for 2 clusters in time)\n",
      "------------------------------------------------------------------------------\n",
      "             |               Robust\n",
      "         tip | Coefficient  std. err.      t    P>|t|     [95% conf. interval]\n",
      "-------------+----------------------------------------------------------------\n",
      "  total_bill |    .094487   .0030743    30.73   0.021     .0554239    .1335501\n",
      "        size |    .175992    .041936     4.20   0.149    -.3568556    .7088396\n",
      "       _cons |   .6765225   .1685903     4.01   0.155    -1.465621    2.818666\n",
      "------------------------------------------------------------------------------\n",
      "\n",
      "Absorbed degrees of freedom:\n",
      "-----------------------------------------------------+\n",
      " Absorbed FE | Categories  - Redundant  = Num. Coefs |\n",
      "-------------+---------------------------------------|\n",
      "         sex |         2           0           2     |\n",
      "        time |         2           2           0    *|\n",
      "         day |         4           1           3     |\n",
      "      smoker |         2           1           1    ?|\n",
      "-----------------------------------------------------+\n",
      "? = number of redundant parameters may be higher\n",
      "* = FE nested within cluster; treated as redundant for DoF computation\n",
      "\n",
      ". est store m1\n",
      "\n",
      ". \n"
     ]
    }
   ],
   "source": [
    "%%stata -d df -force -eret eret -doutd df2\n",
    "reghdfe tip $X, a(sex time day smoker) vce(cluster time)\n",
    "est store m1"
   ]
  },
  {
   "cell_type": "markdown",
   "metadata": {},
   "source": [
    "Let's see what has been returned to Python:\n",
    "\n",
    "1. The data generated by Stata -> Convenient for further processing\n",
    "2. The estimation results -> Process model parameters easily"
   ]
  },
  {
   "cell_type": "code",
   "execution_count": 7,
   "metadata": {},
   "outputs": [
    {
     "data": {
      "text/html": [
       "<div>\n",
       "<style scoped>\n",
       "    .dataframe tbody tr th:only-of-type {\n",
       "        vertical-align: middle;\n",
       "    }\n",
       "\n",
       "    .dataframe tbody tr th {\n",
       "        vertical-align: top;\n",
       "    }\n",
       "\n",
       "    .dataframe thead th {\n",
       "        text-align: right;\n",
       "    }\n",
       "</style>\n",
       "<table border=\"1\" class=\"dataframe\">\n",
       "  <thead>\n",
       "    <tr style=\"text-align: right;\">\n",
       "      <th></th>\n",
       "      <th>total_bill</th>\n",
       "      <th>tip</th>\n",
       "      <th>sex</th>\n",
       "      <th>smoker</th>\n",
       "      <th>day</th>\n",
       "      <th>time</th>\n",
       "      <th>size</th>\n",
       "      <th>_est_m1</th>\n",
       "    </tr>\n",
       "  </thead>\n",
       "  <tbody>\n",
       "    <tr>\n",
       "      <th>98</th>\n",
       "      <td>21.01</td>\n",
       "      <td>3.00</td>\n",
       "      <td>Male</td>\n",
       "      <td>Yes</td>\n",
       "      <td>Fri</td>\n",
       "      <td>Dinner</td>\n",
       "      <td>2</td>\n",
       "      <td>1</td>\n",
       "    </tr>\n",
       "    <tr>\n",
       "      <th>193</th>\n",
       "      <td>15.48</td>\n",
       "      <td>2.02</td>\n",
       "      <td>Male</td>\n",
       "      <td>Yes</td>\n",
       "      <td>Thur</td>\n",
       "      <td>Lunch</td>\n",
       "      <td>2</td>\n",
       "      <td>1</td>\n",
       "    </tr>\n",
       "    <tr>\n",
       "      <th>108</th>\n",
       "      <td>18.24</td>\n",
       "      <td>3.76</td>\n",
       "      <td>Male</td>\n",
       "      <td>No</td>\n",
       "      <td>Sat</td>\n",
       "      <td>Dinner</td>\n",
       "      <td>2</td>\n",
       "      <td>1</td>\n",
       "    </tr>\n",
       "  </tbody>\n",
       "</table>\n",
       "</div>"
      ],
      "text/plain": [
       "     total_bill   tip   sex smoker   day    time  size  _est_m1\n",
       "98        21.01  3.00  Male    Yes   Fri  Dinner     2        1\n",
       "193       15.48  2.02  Male    Yes  Thur   Lunch     2        1\n",
       "108       18.24  3.76  Male     No   Sat  Dinner     2        1"
      ]
     },
     "execution_count": 7,
     "metadata": {},
     "output_type": "execute_result"
    }
   ],
   "source": [
    "df2.sample(3)"
   ]
  },
  {
   "cell_type": "code",
   "execution_count": 8,
   "metadata": {},
   "outputs": [
    {
     "data": {
      "text/plain": [
       "{'e(F)': 8.98846567431158e+307,\n",
       " 'e(rmse)': 1.026416613194794,\n",
       " 'e(mss)': 218.68620811008896,\n",
       " 'e(rss)': 246.52626893909155,\n",
       " 'e(tss_within)': 452.42062716865007,\n",
       " 'e(tss)': 465.2124770491805,\n",
       " 'e(df_m)': 2.0,\n",
       " 'e(N_full)': 244.0,\n",
       " 'e(num_singletons)': 0.0,\n",
       " 'e(drop_singletons)': 1.0,\n",
       " 'e(ic)': 5.0,\n",
       " 'e(df_a_nested)': 2.0,\n",
       " 'e(df_a_redundant)': 4.0,\n",
       " 'e(df_a_initial)': 10.0,\n",
       " 'e(df_a)': 6.0,\n",
       " 'e(N_hdfe_extended)': 4.0,\n",
       " 'e(N_hdfe)': 4.0,\n",
       " 'e(df_r)': 1.0,\n",
       " 'e(rank)': 2.0,\n",
       " 'e(N)': 244.0,\n",
       " 'e(N_clustervars)': 1.0,\n",
       " 'e(report_constant)': 1.0,\n",
       " 'e(sumweights)': 244.0,\n",
       " 'e(N_clust1)': 2.0,\n",
       " 'e(N_clust)': 2.0,\n",
       " 'e(r2_a_within)': 0.45043767649857314,\n",
       " 'e(r2_a)': 0.4496965125752467,\n",
       " 'e(r2_within)': 0.4550949843248564,\n",
       " 'e(r2)': 0.47007812322060805,\n",
       " 'e(ll_0)': -421.5491838743587,\n",
       " 'e(ll)': -347.4776423882719,\n",
       " 'e(_estimates_name)': 'm1',\n",
       " 'e(vce)': 'cluster',\n",
       " 'e(vcetype)': 'Robust',\n",
       " 'e(clustvar1)': 'time',\n",
       " 'e(clustvar)': 'time',\n",
       " 'e(indepvars)': 'total_bill size _cons',\n",
       " 'e(depvar)': 'tip',\n",
       " 'e(title3)': 'Statistics robust to heteroskedasticity',\n",
       " 'e(cmdline)': 'reghdfe tip total_bill size, a(sex time day smoker) vce(cluster time)',\n",
       " 'e(title2)': 'Absorbing 4 HDFE groups',\n",
       " 'e(title)': 'HDFE Linear regression',\n",
       " 'e(marginsnotok)': 'Residuals SCore',\n",
       " 'e(footnote)': 'reghdfe_footnote',\n",
       " 'e(estat_cmd)': 'reghdfe_estat',\n",
       " 'e(predict)': 'reghdfe_p',\n",
       " 'e(extended_absvars)': 'sex time day smoker',\n",
       " 'e(absvars)': 'sex time day smoker',\n",
       " 'e(dofmethod)': 'pairwise clusters continuous',\n",
       " 'e(cmd)': 'reghdfe',\n",
       " 'e(properties)': 'b V',\n",
       " 'e(b)': array([[0.09448701, 0.175992  , 0.67652246]]),\n",
       " 'e(V)': array([[ 9.45151063e-06,  1.28925186e-04, -5.18302505e-04],\n",
       "        [ 1.28925186e-04,  1.75862931e-03, -7.07000706e-03],\n",
       "        [-5.18302505e-04, -7.07000706e-03,  2.84227037e-02]]),\n",
       " 'e(dof_table)': array([[2., 0., 2., 0., 0.],\n",
       "        [2., 2., 0., 0., 1.],\n",
       "        [4., 1., 3., 0., 0.],\n",
       "        [2., 1., 1., 1., 0.]])}"
      ]
     },
     "execution_count": 8,
     "metadata": {},
     "output_type": "execute_result"
    }
   ],
   "source": [
    "eret"
   ]
  },
  {
   "cell_type": "markdown",
   "metadata": {},
   "source": [
    "## Draw Plot"
   ]
  },
  {
   "cell_type": "code",
   "execution_count": 9,
   "metadata": {},
   "outputs": [
    {
     "data": {
      "image/svg+xml": "<svg xmlns=\"http://www.w3.org/2000/svg\" xmlns:xlink=\"http://www.w3.org/1999/xlink\" version=\"1.1\" width=\"5.500in\" height=\"4.000in\" viewBox=\"0 0 3960 2880\">\n\t<desc>Stata Graph - Graph</desc>\n\t<rect x=\"0\" y=\"0\" width=\"3960\" height=\"2880\" style=\"fill:#EAF2F3;stroke:none\"/>\n\t<rect x=\"0.00\" y=\"0.00\" width=\"3959.88\" height=\"2880.00\" style=\"fill:#EAF2F3\"/>\n\t<rect x=\"2.88\" y=\"2.88\" width=\"3954.12\" height=\"2874.24\" style=\"fill:none;stroke:#EAF2F3;stroke-width:5.76\"/>\n\t<rect x=\"390.80\" y=\"100.86\" width=\"3468.22\" height=\"2388.33\" style=\"fill:#FFFFFF\"/>\n\t<rect x=\"393.68\" y=\"103.74\" width=\"3462.46\" height=\"2382.57\" style=\"fill:none;stroke:#FFFFFF;stroke-width:5.76\"/>\n\t<line x1=\"390.80\" y1=\"2425.82\" x2=\"3859.02\" y2=\"2425.82\" style=\"stroke:#EAF2F3;stroke-width:8.64\"/>\n\t<line x1=\"390.80\" y1=\"1980.68\" x2=\"3859.02\" y2=\"1980.68\" style=\"stroke:#EAF2F3;stroke-width:8.64\"/>\n\t<line x1=\"390.80\" y1=\"1535.54\" x2=\"3859.02\" y2=\"1535.54\" style=\"stroke:#EAF2F3;stroke-width:8.64\"/>\n\t<line x1=\"390.80\" y1=\"1090.52\" x2=\"3859.02\" y2=\"1090.52\" style=\"stroke:#EAF2F3;stroke-width:8.64\"/>\n\t<line x1=\"390.80\" y1=\"645.38\" x2=\"3859.02\" y2=\"645.38\" style=\"stroke:#EAF2F3;stroke-width:8.64\"/>\n\t<line x1=\"390.80\" y1=\"200.23\" x2=\"3859.02\" y2=\"200.23\" style=\"stroke:#EAF2F3;stroke-width:8.64\"/>\n\t<circle cx=\"791.63\" cy=\"1669.69\" r=\"26.35\" style=\"fill:#1A476F\"/>\n\t<circle cx=\"791.63\" cy=\"1669.69\" r=\"22.03\" style=\"fill:none;stroke:#1A476F;stroke-width:8.64\"/>\n\t<circle cx=\"1008.81\" cy=\"1965.71\" r=\"26.35\" style=\"fill:#1A476F\"/>\n\t<circle cx=\"1008.81\" cy=\"1965.71\" r=\"22.03\" style=\"fill:none;stroke:#1A476F;stroke-width:8.64\"/>\n\t<circle cx=\"1623.60\" cy=\"1490.74\" r=\"26.35\" style=\"fill:#1A476F\"/>\n\t<circle cx=\"1623.60\" cy=\"1490.74\" r=\"22.03\" style=\"fill:none;stroke:#1A476F;stroke-width:8.64\"/>\n\t<circle cx=\"1560.12\" cy=\"1371.81\" r=\"26.35\" style=\"fill:#1A476F\"/>\n\t<circle cx=\"1560.12\" cy=\"1371.81\" r=\"22.03\" style=\"fill:none;stroke:#1A476F;stroke-width:8.64\"/>\n\t<circle cx=\"1660.35\" cy=\"1331.34\" r=\"26.35\" style=\"fill:#1A476F\"/>\n\t<circle cx=\"1660.35\" cy=\"1331.34\" r=\"22.03\" style=\"fill:none;stroke:#1A476F;stroke-width:8.64\"/>\n\t<circle cx=\"2028.02\" cy=\"1300.16\" r=\"26.35\" style=\"fill:#1A476F\"/>\n\t<circle cx=\"2028.02\" cy=\"1300.16\" r=\"22.03\" style=\"fill:none;stroke:#1A476F;stroke-width:8.64\"/>\n\t<circle cx=\"1122.41\" cy=\"2035.50\" r=\"26.35\" style=\"fill:#1A476F\"/>\n\t<circle cx=\"1122.41\" cy=\"2035.50\" r=\"22.03\" style=\"fill:none;stroke:#1A476F;stroke-width:8.64\"/>\n\t<circle cx=\"1496.63\" cy=\"1229.37\" r=\"26.35\" style=\"fill:#1A476F\"/>\n\t<circle cx=\"1496.63\" cy=\"1229.37\" r=\"22.03\" style=\"fill:none;stroke:#1A476F;stroke-width:8.64\"/>\n\t<circle cx=\"1109.05\" cy=\"1756.44\" r=\"26.35\" style=\"fill:#1A476F\"/>\n\t<circle cx=\"1109.05\" cy=\"1756.44\" r=\"22.03\" style=\"fill:none;stroke:#1A476F;stroke-width:8.64\"/>\n\t<circle cx=\"1533.39\" cy=\"1768.07\" r=\"26.35\" style=\"fill:#1A476F\"/>\n\t<circle cx=\"1533.39\" cy=\"1768.07\" r=\"22.03\" style=\"fill:none;stroke:#1A476F;stroke-width:8.64\"/>\n\t<circle cx=\"1025.52\" cy=\"1968.80\" r=\"26.35\" style=\"fill:#1A476F\"/>\n\t<circle cx=\"1025.52\" cy=\"1968.80\" r=\"22.03\" style=\"fill:none;stroke:#1A476F;stroke-width:8.64\"/>\n\t<circle cx=\"2124.91\" cy=\"856.38\" r=\"26.35\" style=\"fill:#1A476F\"/>\n\t<circle cx=\"2124.91\" cy=\"856.38\" r=\"22.03\" style=\"fill:none;stroke:#1A476F;stroke-width:8.64\"/>\n\t<circle cx=\"978.74\" cy=\"1739.48\" r=\"26.35\" style=\"fill:#1A476F\"/>\n\t<circle cx=\"978.74\" cy=\"1739.48\" r=\"22.03\" style=\"fill:none;stroke:#1A476F;stroke-width:8.64\"/>\n\t<circle cx=\"1456.54\" cy=\"1605.58\" r=\"26.35\" style=\"fill:#1A476F\"/>\n\t<circle cx=\"1456.54\" cy=\"1605.58\" r=\"22.03\" style=\"fill:none;stroke:#1A476F;stroke-width:8.64\"/>\n\t<circle cx=\"1463.22\" cy=\"1765.84\" r=\"26.35\" style=\"fill:#1A476F\"/>\n\t<circle cx=\"1463.22\" cy=\"1765.84\" r=\"22.03\" style=\"fill:none;stroke:#1A476F;stroke-width:8.64\"/>\n\t<circle cx=\"1763.93\" cy=\"1465.37\" r=\"26.35\" style=\"fill:#1A476F\"/>\n\t<circle cx=\"1763.93\" cy=\"1465.37\" r=\"22.03\" style=\"fill:none;stroke:#1A476F;stroke-width:8.64\"/>\n\t<circle cx=\"1012.15\" cy=\"1966.08\" r=\"26.35\" style=\"fill:#1A476F\"/>\n\t<circle cx=\"1012.15\" cy=\"1966.08\" r=\"22.03\" style=\"fill:none;stroke:#1A476F;stroke-width:8.64\"/>\n\t<circle cx=\"1693.77\" cy=\"1700.75\" r=\"26.35\" style=\"fill:#1A476F\"/>\n\t<circle cx=\"1693.77\" cy=\"1700.75\" r=\"22.03\" style=\"fill:none;stroke:#1A476F;stroke-width:8.64\"/>\n\t<circle cx=\"1623.60\" cy=\"1670.55\" r=\"26.35\" style=\"fill:#1A476F\"/>\n\t<circle cx=\"1623.60\" cy=\"1670.55\" r=\"22.03\" style=\"fill:none;stroke:#1A476F;stroke-width:8.64\"/>\n\t<circle cx=\"1573.48\" cy=\"1506.70\" r=\"26.35\" style=\"fill:#1A476F\"/>\n\t<circle cx=\"1573.48\" cy=\"1506.70\" r=\"22.03\" style=\"fill:none;stroke:#1A476F;stroke-width:8.64\"/>\n\t<circle cx=\"1817.39\" cy=\"1628.23\" r=\"26.35\" style=\"fill:#1A476F\"/>\n\t<circle cx=\"1817.39\" cy=\"1628.23\" r=\"22.03\" style=\"fill:none;stroke:#1A476F;stroke-width:8.64\"/>\n\t<circle cx=\"1373.01\" cy=\"1522.79\" r=\"26.35\" style=\"fill:#1A476F\"/>\n\t<circle cx=\"1373.01\" cy=\"1522.79\" r=\"22.03\" style=\"fill:none;stroke:#1A476F;stroke-width:8.64\"/>\n\t<circle cx=\"1199.26\" cy=\"1723.89\" r=\"26.35\" style=\"fill:#1A476F\"/>\n\t<circle cx=\"1199.26\" cy=\"1723.89\" r=\"22.03\" style=\"fill:none;stroke:#1A476F;stroke-width:8.64\"/>\n\t<circle cx=\"2986.95\" cy=\"671.24\" r=\"26.35\" style=\"fill:#1A476F\"/>\n\t<circle cx=\"2986.95\" cy=\"671.24\" r=\"22.03\" style=\"fill:none;stroke:#1A476F;stroke-width:8.64\"/>\n\t<circle cx=\"1516.68\" cy=\"1543.71\" r=\"26.35\" style=\"fill:#1A476F\"/>\n\t<circle cx=\"1516.68\" cy=\"1543.71\" r=\"22.03\" style=\"fill:none;stroke:#1A476F;stroke-width:8.64\"/>\n\t<circle cx=\"1236.02\" cy=\"1633.18\" r=\"26.35\" style=\"fill:#1A476F\"/>\n\t<circle cx=\"1236.02\" cy=\"1633.18\" r=\"22.03\" style=\"fill:none;stroke:#1A476F;stroke-width:8.64\"/>\n\t<circle cx=\"1122.41\" cy=\"1830.81\" r=\"26.35\" style=\"fill:#1A476F\"/>\n\t<circle cx=\"1122.41\" cy=\"1830.81\" r=\"22.03\" style=\"fill:none;stroke:#1A476F;stroke-width:8.64\"/>\n\t<circle cx=\"1122.41\" cy=\"1861.01\" r=\"26.35\" style=\"fill:#1A476F\"/>\n\t<circle cx=\"1122.41\" cy=\"1861.01\" r=\"22.03\" style=\"fill:none;stroke:#1A476F;stroke-width:8.64\"/>\n\t<circle cx=\"1890.90\" cy=\"1459.92\" r=\"26.35\" style=\"fill:#1A476F\"/>\n\t<circle cx=\"1890.90\" cy=\"1459.92\" r=\"22.03\" style=\"fill:none;stroke:#1A476F;stroke-width:8.64\"/>\n\t<circle cx=\"1456.54\" cy=\"1551.25\" r=\"26.35\" style=\"fill:#1A476F\"/>\n\t<circle cx=\"1456.54\" cy=\"1551.25\" r=\"22.03\" style=\"fill:none;stroke:#1A476F;stroke-width:8.64\"/>\n\t<circle cx=\"938.64\" cy=\"2000.85\" r=\"26.35\" style=\"fill:#1A476F\"/>\n\t<circle cx=\"938.64\" cy=\"2000.85\" r=\"22.03\" style=\"fill:none;stroke:#1A476F;stroke-width:8.64\"/>\n\t<circle cx=\"1289.47\" cy=\"1609.05\" r=\"26.35\" style=\"fill:#1A476F\"/>\n\t<circle cx=\"1289.47\" cy=\"1609.05\" r=\"22.03\" style=\"fill:none;stroke:#1A476F;stroke-width:8.64\"/>\n\t<circle cx=\"1456.54\" cy=\"1755.57\" r=\"26.35\" style=\"fill:#1A476F\"/>\n\t<circle cx=\"1456.54\" cy=\"1755.57\" r=\"22.03\" style=\"fill:none;stroke:#1A476F;stroke-width:8.64\"/>\n\t<circle cx=\"1272.77\" cy=\"1504.97\" r=\"26.35\" style=\"fill:#1A476F\"/>\n\t<circle cx=\"1272.77\" cy=\"1504.97\" r=\"22.03\" style=\"fill:none;stroke:#1A476F;stroke-width:8.64\"/>\n\t<circle cx=\"1546.75\" cy=\"1634.42\" r=\"26.35\" style=\"fill:#1A476F\"/>\n\t<circle cx=\"1546.75\" cy=\"1634.42\" r=\"22.03\" style=\"fill:none;stroke:#1A476F;stroke-width:8.64\"/>\n\t<circle cx=\"1657.01\" cy=\"1354.98\" r=\"26.35\" style=\"fill:#1A476F\"/>\n\t<circle cx=\"1657.01\" cy=\"1354.98\" r=\"22.03\" style=\"fill:none;stroke:#1A476F;stroke-width:8.64\"/>\n\t<circle cx=\"1122.41\" cy=\"1699.88\" r=\"26.35\" style=\"fill:#1A476F\"/>\n\t<circle cx=\"1122.41\" cy=\"1699.88\" r=\"22.03\" style=\"fill:none;stroke:#1A476F;stroke-width:8.64\"/>\n\t<circle cx=\"1479.93\" cy=\"1672.29\" r=\"26.35\" style=\"fill:#1A476F\"/>\n\t<circle cx=\"1479.93\" cy=\"1672.29\" r=\"22.03\" style=\"fill:none;stroke:#1A476F;stroke-width:8.64\"/>\n\t<circle cx=\"1225.99\" cy=\"1593.95\" r=\"26.35\" style=\"fill:#1A476F\"/>\n\t<circle cx=\"1225.99\" cy=\"1593.95\" r=\"22.03\" style=\"fill:none;stroke:#1A476F;stroke-width:8.64\"/>\n\t<circle cx=\"2124.91\" cy=\"1033.96\" r=\"26.35\" style=\"fill:#1A476F\"/>\n\t<circle cx=\"2124.91\" cy=\"1033.96\" r=\"22.03\" style=\"fill:none;stroke:#1A476F;stroke-width:8.64\"/>\n\t<circle cx=\"1202.60\" cy=\"1711.89\" r=\"26.35\" style=\"fill:#1A476F\"/>\n\t<circle cx=\"1202.60\" cy=\"1711.89\" r=\"22.03\" style=\"fill:none;stroke:#1A476F;stroke-width:8.64\"/>\n\t<circle cx=\"1302.84\" cy=\"1648.77\" r=\"26.35\" style=\"fill:#1A476F\"/>\n\t<circle cx=\"1302.84\" cy=\"1648.77\" r=\"22.03\" style=\"fill:none;stroke:#1A476F;stroke-width:8.64\"/>\n\t<circle cx=\"1476.59\" cy=\"1805.45\" r=\"26.35\" style=\"fill:#1A476F\"/>\n\t<circle cx=\"1476.59\" cy=\"1805.45\" r=\"22.03\" style=\"fill:none;stroke:#1A476F;stroke-width:8.64\"/>\n\t<circle cx=\"895.21\" cy=\"1995.04\" r=\"26.35\" style=\"fill:#1A476F\"/>\n\t<circle cx=\"895.21\" cy=\"1995.04\" r=\"22.03\" style=\"fill:none;stroke:#1A476F;stroke-width:8.64\"/>\n\t<circle cx=\"2325.39\" cy=\"1072.70\" r=\"26.35\" style=\"fill:#1A476F\"/>\n\t<circle cx=\"2325.39\" cy=\"1072.70\" r=\"22.03\" style=\"fill:none;stroke:#1A476F;stroke-width:8.64\"/>\n\t<circle cx=\"1456.54\" cy=\"1611.77\" r=\"26.35\" style=\"fill:#1A476F\"/>\n\t<circle cx=\"1456.54\" cy=\"1611.77\" r=\"22.03\" style=\"fill:none;stroke:#1A476F;stroke-width:8.64\"/>\n\t<circle cx=\"2124.91\" cy=\"1436.41\" r=\"26.35\" style=\"fill:#1A476F\"/>\n\t<circle cx=\"2124.91\" cy=\"1436.41\" r=\"22.03\" style=\"fill:none;stroke:#1A476F;stroke-width:8.64\"/>\n\t<circle cx=\"2459.04\" cy=\"983.72\" r=\"26.35\" style=\"fill:#1A476F\"/>\n\t<circle cx=\"2459.04\" cy=\"983.72\" r=\"22.03\" style=\"fill:none;stroke:#1A476F;stroke-width:8.64\"/>\n\t<circle cx=\"1139.12\" cy=\"1155.12\" r=\"26.35\" style=\"fill:#1A476F\"/>\n\t<circle cx=\"1139.12\" cy=\"1155.12\" r=\"22.03\" style=\"fill:none;stroke:#1A476F;stroke-width:8.64\"/>\n\t<circle cx=\"1456.54\" cy=\"1622.91\" r=\"26.35\" style=\"fill:#1A476F\"/>\n\t<circle cx=\"1456.54\" cy=\"1622.91\" r=\"22.03\" style=\"fill:none;stroke:#1A476F;stroke-width:8.64\"/>\n\t<circle cx=\"1289.47\" cy=\"1867.69\" r=\"26.35\" style=\"fill:#1A476F\"/>\n\t<circle cx=\"1289.47\" cy=\"1867.69\" r=\"22.03\" style=\"fill:none;stroke:#1A476F;stroke-width:8.64\"/>\n\t<circle cx=\"1322.89\" cy=\"1967.93\" r=\"26.35\" style=\"fill:#1A476F\"/>\n\t<circle cx=\"1322.89\" cy=\"1967.93\" r=\"22.03\" style=\"fill:none;stroke:#1A476F;stroke-width:8.64\"/>\n\t<circle cx=\"2191.74\" cy=\"876.42\" r=\"26.35\" style=\"fill:#1A476F\"/>\n\t<circle cx=\"2191.74\" cy=\"876.42\" r=\"22.03\" style=\"fill:none;stroke:#1A476F;stroke-width:8.64\"/>\n\t<circle cx=\"975.40\" cy=\"1983.40\" r=\"26.35\" style=\"fill:#1A476F\"/>\n\t<circle cx=\"975.40\" cy=\"1983.40\" r=\"22.03\" style=\"fill:none;stroke:#1A476F;stroke-width:8.64\"/>\n\t<circle cx=\"1904.27\" cy=\"1288.15\" r=\"26.35\" style=\"fill:#1A476F\"/>\n\t<circle cx=\"1904.27\" cy=\"1288.15\" r=\"22.03\" style=\"fill:none;stroke:#1A476F;stroke-width:8.64\"/>\n\t<circle cx=\"1626.94\" cy=\"1558.31\" r=\"26.35\" style=\"fill:#1A476F\"/>\n\t<circle cx=\"1626.94\" cy=\"1558.31\" r=\"22.03\" style=\"fill:none;stroke:#1A476F;stroke-width:8.64\"/>\n\t<circle cx=\"1456.54\" cy=\"733.98\" r=\"26.35\" style=\"fill:#1A476F\"/>\n\t<circle cx=\"1456.54\" cy=\"733.98\" r=\"22.03\" style=\"fill:none;stroke:#1A476F;stroke-width:8.64\"/>\n\t<circle cx=\"955.35\" cy=\"1250.29\" r=\"26.35\" style=\"fill:#1A476F\"/>\n\t<circle cx=\"955.35\" cy=\"1250.29\" r=\"22.03\" style=\"fill:none;stroke:#1A476F;stroke-width:8.64\"/>\n\t<circle cx=\"1042.22\" cy=\"1925.61\" r=\"26.35\" style=\"fill:#1A476F\"/>\n\t<circle cx=\"1042.22\" cy=\"1925.61\" r=\"22.03\" style=\"fill:none;stroke:#1A476F;stroke-width:8.64\"/>\n\t<circle cx=\"2702.95\" cy=\"277.33\" r=\"26.35\" style=\"fill:#1A476F\"/>\n\t<circle cx=\"2702.95\" cy=\"277.33\" r=\"22.03\" style=\"fill:none;stroke:#1A476F;stroke-width:8.64\"/>\n\t<circle cx=\"1526.70\" cy=\"1522.79\" r=\"26.35\" style=\"fill:#1A476F\"/>\n\t<circle cx=\"1526.70\" cy=\"1522.79\" r=\"22.03\" style=\"fill:none;stroke:#1A476F;stroke-width:8.64\"/>\n\t<circle cx=\"1122.41\" cy=\"1811.14\" r=\"26.35\" style=\"fill:#1A476F\"/>\n\t<circle cx=\"1122.41\" cy=\"1811.14\" r=\"22.03\" style=\"fill:none;stroke:#1A476F;stroke-width:8.64\"/>\n\t<circle cx=\"1115.73\" cy=\"1935.39\" r=\"26.35\" style=\"fill:#1A476F\"/>\n\t<circle cx=\"1115.73\" cy=\"1935.39\" r=\"22.03\" style=\"fill:none;stroke:#1A476F;stroke-width:8.64\"/>\n\t<circle cx=\"1710.47\" cy=\"1611.77\" r=\"26.35\" style=\"fill:#1A476F\"/>\n\t<circle cx=\"1710.47\" cy=\"1611.77\" r=\"22.03\" style=\"fill:none;stroke:#1A476F;stroke-width:8.64\"/>\n\t<circle cx=\"1336.25\" cy=\"1642.96\" r=\"26.35\" style=\"fill:#1A476F\"/>\n\t<circle cx=\"1336.25\" cy=\"1642.96\" r=\"22.03\" style=\"fill:none;stroke:#1A476F;stroke-width:8.64\"/>\n\t<circle cx=\"1506.66\" cy=\"1532.07\" r=\"26.35\" style=\"fill:#1A476F\"/>\n\t<circle cx=\"1506.66\" cy=\"1532.07\" r=\"22.03\" style=\"fill:none;stroke:#1A476F;stroke-width:8.64\"/>\n\t<circle cx=\"1279.45\" cy=\"1693.70\" r=\"26.35\" style=\"fill:#1A476F\"/>\n\t<circle cx=\"1279.45\" cy=\"1693.70\" r=\"22.03\" style=\"fill:none;stroke:#1A476F;stroke-width:8.64\"/>\n\t<circle cx=\"788.29\" cy=\"2289.20\" r=\"26.35\" style=\"fill:#1A476F\"/>\n\t<circle cx=\"788.29\" cy=\"2289.20\" r=\"22.03\" style=\"fill:none;stroke:#1A476F;stroke-width:8.64\"/>\n\t<circle cx=\"1125.75\" cy=\"1525.39\" r=\"26.35\" style=\"fill:#1A476F\"/>\n\t<circle cx=\"1125.75\" cy=\"1525.39\" r=\"22.03\" style=\"fill:none;stroke:#1A476F;stroke-width:8.64\"/>\n\t<circle cx=\"1152.48\" cy=\"1757.80\" r=\"26.35\" style=\"fill:#1A476F\"/>\n\t<circle cx=\"1152.48\" cy=\"1757.80\" r=\"22.03\" style=\"fill:none;stroke:#1A476F;stroke-width:8.64\"/>\n\t<circle cx=\"1112.39\" cy=\"1890.84\" r=\"26.35\" style=\"fill:#1A476F\"/>\n\t<circle cx=\"1112.39\" cy=\"1890.84\" r=\"22.03\" style=\"fill:none;stroke:#1A476F;stroke-width:8.64\"/>\n\t<circle cx=\"1456.54\" cy=\"1666.10\" r=\"26.35\" style=\"fill:#1A476F\"/>\n\t<circle cx=\"1456.54\" cy=\"1666.10\" r=\"22.03\" style=\"fill:none;stroke:#1A476F;stroke-width:8.64\"/>\n\t<circle cx=\"1503.32\" cy=\"1230.36\" r=\"26.35\" style=\"fill:#1A476F\"/>\n\t<circle cx=\"1503.32\" cy=\"1230.36\" r=\"22.03\" style=\"fill:none;stroke:#1A476F;stroke-width:8.64\"/>\n\t<circle cx=\"2124.91\" cy=\"1300.65\" r=\"26.35\" style=\"fill:#1A476F\"/>\n\t<circle cx=\"2124.91\" cy=\"1300.65\" r=\"22.03\" style=\"fill:none;stroke:#1A476F;stroke-width:8.64\"/>\n\t<circle cx=\"1189.24\" cy=\"1770.30\" r=\"26.35\" style=\"fill:#1A476F\"/>\n\t<circle cx=\"1189.24\" cy=\"1770.30\" r=\"22.03\" style=\"fill:none;stroke:#1A476F;stroke-width:8.64\"/>\n\t<circle cx=\"871.82\" cy=\"1958.03\" r=\"26.35\" style=\"fill:#1A476F\"/>\n\t<circle cx=\"871.82\" cy=\"1958.03\" r=\"22.03\" style=\"fill:none;stroke:#1A476F;stroke-width:8.64\"/>\n\t<circle cx=\"1483.27\" cy=\"1628.23\" r=\"26.35\" style=\"fill:#1A476F\"/>\n\t<circle cx=\"1483.27\" cy=\"1628.23\" r=\"22.03\" style=\"fill:none;stroke:#1A476F;stroke-width:8.64\"/>\n\t<circle cx=\"1790.66\" cy=\"1215.14\" r=\"26.35\" style=\"fill:#1A476F\"/>\n\t<circle cx=\"1790.66\" cy=\"1215.14\" r=\"22.03\" style=\"fill:none;stroke:#1A476F;stroke-width:8.64\"/>\n\t<circle cx=\"1456.54\" cy=\"1412.77\" r=\"26.35\" style=\"fill:#1A476F\"/>\n\t<circle cx=\"1456.54\" cy=\"1412.77\" r=\"22.03\" style=\"fill:none;stroke:#1A476F;stroke-width:8.64\"/>\n\t<circle cx=\"1359.64\" cy=\"1656.32\" r=\"26.35\" style=\"fill:#1A476F\"/>\n\t<circle cx=\"1359.64\" cy=\"1656.32\" r=\"22.03\" style=\"fill:none;stroke:#1A476F;stroke-width:8.64\"/>\n\t<circle cx=\"1456.54\" cy=\"1560.54\" r=\"26.35\" style=\"fill:#1A476F\"/>\n\t<circle cx=\"1456.54\" cy=\"1560.54\" r=\"22.03\" style=\"fill:none;stroke:#1A476F;stroke-width:8.64\"/>\n\t<circle cx=\"1590.19\" cy=\"1684.29\" r=\"26.35\" style=\"fill:#1A476F\"/>\n\t<circle cx=\"1590.19\" cy=\"1684.29\" r=\"22.03\" style=\"fill:none;stroke:#1A476F;stroke-width:8.64\"/>\n\t<circle cx=\"1065.61\" cy=\"1977.71\" r=\"26.35\" style=\"fill:#1A476F\"/>\n\t<circle cx=\"1065.61\" cy=\"1977.71\" r=\"22.03\" style=\"fill:none;stroke:#1A476F;stroke-width:8.64\"/>\n\t<circle cx=\"2124.91\" cy=\"971.22\" r=\"26.35\" style=\"fill:#1A476F\"/>\n\t<circle cx=\"2124.91\" cy=\"971.22\" r=\"22.03\" style=\"fill:none;stroke:#1A476F;stroke-width:8.64\"/>\n\t<circle cx=\"1132.44\" cy=\"1714.61\" r=\"26.35\" style=\"fill:#1A476F\"/>\n\t<circle cx=\"1132.44\" cy=\"1714.61\" r=\"22.03\" style=\"fill:none;stroke:#1A476F;stroke-width:8.64\"/>\n\t<circle cx=\"2181.71\" cy=\"875.56\" r=\"26.35\" style=\"fill:#1A476F\"/>\n\t<circle cx=\"2181.71\" cy=\"875.56\" r=\"22.03\" style=\"fill:none;stroke:#1A476F;stroke-width:8.64\"/>\n\t<circle cx=\"1122.41\" cy=\"1845.91\" r=\"26.35\" style=\"fill:#1A476F\"/>\n\t<circle cx=\"1122.41\" cy=\"1845.91\" r=\"22.03\" style=\"fill:none;stroke:#1A476F;stroke-width:8.64\"/>\n\t<circle cx=\"1790.66\" cy=\"1612.27\" r=\"26.35\" style=\"fill:#1A476F\"/>\n\t<circle cx=\"1790.66\" cy=\"1612.27\" r=\"22.03\" style=\"fill:none;stroke:#1A476F;stroke-width:8.64\"/>\n\t<circle cx=\"2408.92\" cy=\"1326.02\" r=\"26.35\" style=\"fill:#1A476F\"/>\n\t<circle cx=\"2408.92\" cy=\"1326.02\" r=\"22.03\" style=\"fill:none;stroke:#1A476F;stroke-width:8.64\"/>\n\t<circle cx=\"1456.54\" cy=\"1484.06\" r=\"26.35\" style=\"fill:#1A476F\"/>\n\t<circle cx=\"1456.54\" cy=\"1484.06\" r=\"22.03\" style=\"fill:none;stroke:#1A476F;stroke-width:8.64\"/>\n\t<circle cx=\"1456.54\" cy=\"1136.43\" r=\"26.35\" style=\"fill:#1A476F\"/>\n\t<circle cx=\"1456.54\" cy=\"1136.43\" r=\"22.03\" style=\"fill:none;stroke:#1A476F;stroke-width:8.64\"/>\n\t<circle cx=\"1623.60\" cy=\"1424.78\" r=\"26.35\" style=\"fill:#1A476F\"/>\n\t<circle cx=\"1623.60\" cy=\"1424.78\" r=\"22.03\" style=\"fill:none;stroke:#1A476F;stroke-width:8.64\"/>\n\t<circle cx=\"788.29\" cy=\"2169.90\" r=\"26.35\" style=\"fill:#1A476F\"/>\n\t<circle cx=\"788.29\" cy=\"2169.90\" r=\"22.03\" style=\"fill:none;stroke:#1A476F;stroke-width:8.64\"/>\n\t<circle cx=\"1890.90\" cy=\"1699.51\" r=\"26.35\" style=\"fill:#1A476F\"/>\n\t<circle cx=\"1890.90\" cy=\"1699.51\" r=\"22.03\" style=\"fill:none;stroke:#1A476F;stroke-width:8.64\"/>\n\t<circle cx=\"1540.07\" cy=\"1413.27\" r=\"26.35\" style=\"fill:#1A476F\"/>\n\t<circle cx=\"1540.07\" cy=\"1413.27\" r=\"22.03\" style=\"fill:none;stroke:#1A476F;stroke-width:8.64\"/>\n\t<circle cx=\"2034.70\" cy=\"637.83\" r=\"26.35\" style=\"fill:#1A476F\"/>\n\t<circle cx=\"2034.70\" cy=\"637.83\" r=\"22.03\" style=\"fill:none;stroke:#1A476F;stroke-width:8.64\"/>\n\t<circle cx=\"1790.66\" cy=\"1211.55\" r=\"26.35\" style=\"fill:#1A476F\"/>\n\t<circle cx=\"1790.66\" cy=\"1211.55\" r=\"22.03\" style=\"fill:none;stroke:#1A476F;stroke-width:8.64\"/>\n\t<circle cx=\"955.35\" cy=\"1890.46\" r=\"26.35\" style=\"fill:#1A476F\"/>\n\t<circle cx=\"955.35\" cy=\"1890.46\" r=\"22.03\" style=\"fill:none;stroke:#1A476F;stroke-width:8.64\"/>\n\t<circle cx=\"1456.54\" cy=\"1490.74\" r=\"26.35\" style=\"fill:#1A476F\"/>\n\t<circle cx=\"1456.54\" cy=\"1490.74\" r=\"22.03\" style=\"fill:none;stroke:#1A476F;stroke-width:8.64\"/>\n\t<circle cx=\"955.35\" cy=\"1871.28\" r=\"26.35\" style=\"fill:#1A476F\"/>\n\t<circle cx=\"955.35\" cy=\"1871.28\" r=\"22.03\" style=\"fill:none;stroke:#1A476F;stroke-width:8.64\"/>\n\t<circle cx=\"1289.47\" cy=\"1920.66\" r=\"26.35\" style=\"fill:#1A476F\"/>\n\t<circle cx=\"1289.47\" cy=\"1920.66\" r=\"22.03\" style=\"fill:none;stroke:#1A476F;stroke-width:8.64\"/>\n\t<circle cx=\"1456.54\" cy=\"1741.34\" r=\"26.35\" style=\"fill:#1A476F\"/>\n\t<circle cx=\"1456.54\" cy=\"1741.34\" r=\"22.03\" style=\"fill:none;stroke:#1A476F;stroke-width:8.64\"/>\n\t<circle cx=\"1289.47\" cy=\"454.05\" r=\"26.35\" style=\"fill:#1A476F\"/>\n\t<circle cx=\"1289.47\" cy=\"454.05\" r=\"22.03\" style=\"fill:none;stroke:#1A476F;stroke-width:8.64\"/>\n\t<circle cx=\"1616.92\" cy=\"1428.00\" r=\"26.35\" style=\"fill:#1A476F\"/>\n\t<circle cx=\"1616.92\" cy=\"1428.00\" r=\"22.03\" style=\"fill:none;stroke:#1A476F;stroke-width:8.64\"/>\n\t<circle cx=\"1817.39\" cy=\"1494.70\" r=\"26.35\" style=\"fill:#1A476F\"/>\n\t<circle cx=\"1817.39\" cy=\"1494.70\" r=\"22.03\" style=\"fill:none;stroke:#1A476F;stroke-width:8.64\"/>\n\t<circle cx=\"1002.13\" cy=\"1742.21\" r=\"26.35\" style=\"fill:#1A476F\"/>\n\t<circle cx=\"1002.13\" cy=\"1742.21\" r=\"22.03\" style=\"fill:none;stroke:#1A476F;stroke-width:8.64\"/>\n\t<circle cx=\"1810.71\" cy=\"1513.88\" r=\"26.35\" style=\"fill:#1A476F\"/>\n\t<circle cx=\"1810.71\" cy=\"1513.88\" r=\"22.03\" style=\"fill:none;stroke:#1A476F;stroke-width:8.64\"/>\n\t<circle cx=\"1887.56\" cy=\"1303.75\" r=\"26.35\" style=\"fill:#1A476F\"/>\n\t<circle cx=\"1887.56\" cy=\"1303.75\" r=\"22.03\" style=\"fill:none;stroke:#1A476F;stroke-width:8.64\"/>\n\t<circle cx=\"1710.47\" cy=\"1614.00\" r=\"26.35\" style=\"fill:#1A476F\"/>\n\t<circle cx=\"1710.47\" cy=\"1614.00\" r=\"22.03\" style=\"fill:none;stroke:#1A476F;stroke-width:8.64\"/>\n\t<circle cx=\"1790.66\" cy=\"1788.99\" r=\"26.35\" style=\"fill:#1A476F\"/>\n\t<circle cx=\"1790.66\" cy=\"1788.99\" r=\"22.03\" style=\"fill:none;stroke:#1A476F;stroke-width:8.64\"/>\n\t<circle cx=\"1456.54\" cy=\"1802.72\" r=\"26.35\" style=\"fill:#1A476F\"/>\n\t<circle cx=\"1456.54\" cy=\"1802.72\" r=\"22.03\" style=\"fill:none;stroke:#1A476F;stroke-width:8.64\"/>\n\t<circle cx=\"788.29\" cy=\"2103.20\" r=\"26.35\" style=\"fill:#1A476F\"/>\n\t<circle cx=\"788.29\" cy=\"2103.20\" r=\"22.03\" style=\"fill:none;stroke:#1A476F;stroke-width:8.64\"/>\n\t<circle cx=\"1790.66\" cy=\"731.26\" r=\"26.35\" style=\"fill:#1A476F\"/>\n\t<circle cx=\"1790.66\" cy=\"731.26\" r=\"22.03\" style=\"fill:none;stroke:#1A476F;stroke-width:8.64\"/>\n\t<circle cx=\"1306.18\" cy=\"1359.81\" r=\"26.35\" style=\"fill:#1A476F\"/>\n\t<circle cx=\"1306.18\" cy=\"1359.81\" r=\"22.03\" style=\"fill:none;stroke:#1A476F;stroke-width:8.64\"/>\n\t<circle cx=\"1790.66\" cy=\"1281.47\" r=\"26.35\" style=\"fill:#1A476F\"/>\n\t<circle cx=\"1790.66\" cy=\"1281.47\" r=\"22.03\" style=\"fill:none;stroke:#1A476F;stroke-width:8.64\"/>\n\t<circle cx=\"1623.60\" cy=\"1655.46\" r=\"26.35\" style=\"fill:#1A476F\"/>\n\t<circle cx=\"1623.60\" cy=\"1655.46\" r=\"22.03\" style=\"fill:none;stroke:#1A476F;stroke-width:8.64\"/>\n\t<circle cx=\"2148.30\" cy=\"1093.61\" r=\"26.35\" style=\"fill:#1A476F\"/>\n\t<circle cx=\"2148.30\" cy=\"1093.61\" r=\"22.03\" style=\"fill:none;stroke:#1A476F;stroke-width:8.64\"/>\n\t<circle cx=\"955.35\" cy=\"1951.85\" r=\"26.35\" style=\"fill:#1A476F\"/>\n\t<circle cx=\"955.35\" cy=\"1951.85\" r=\"22.03\" style=\"fill:none;stroke:#1A476F;stroke-width:8.64\"/>\n\t<circle cx=\"1055.59\" cy=\"1872.64\" r=\"26.35\" style=\"fill:#1A476F\"/>\n\t<circle cx=\"1055.59\" cy=\"1872.64\" r=\"22.03\" style=\"fill:none;stroke:#1A476F;stroke-width:8.64\"/>\n\t<circle cx=\"1429.81\" cy=\"1353.99\" r=\"26.35\" style=\"fill:#1A476F\"/>\n\t<circle cx=\"1429.81\" cy=\"1353.99\" r=\"22.03\" style=\"fill:none;stroke:#1A476F;stroke-width:8.64\"/>\n\t<circle cx=\"1225.99\" cy=\"1905.56\" r=\"26.35\" style=\"fill:#1A476F\"/>\n\t<circle cx=\"1225.99\" cy=\"1905.56\" r=\"22.03\" style=\"fill:none;stroke:#1A476F;stroke-width:8.64\"/>\n\t<circle cx=\"1015.49\" cy=\"1828.59\" r=\"26.35\" style=\"fill:#1A476F\"/>\n\t<circle cx=\"1015.49\" cy=\"1828.59\" r=\"22.03\" style=\"fill:none;stroke:#1A476F;stroke-width:8.64\"/>\n\t<circle cx=\"1289.47\" cy=\"1791.21\" r=\"26.35\" style=\"fill:#1A476F\"/>\n\t<circle cx=\"1289.47\" cy=\"1791.21\" r=\"22.03\" style=\"fill:none;stroke:#1A476F;stroke-width:8.64\"/>\n\t<circle cx=\"1122.41\" cy=\"1715.97\" r=\"26.35\" style=\"fill:#1A476F\"/>\n\t<circle cx=\"1122.41\" cy=\"1715.97\" r=\"22.03\" style=\"fill:none;stroke:#1A476F;stroke-width:8.64\"/>\n\t<circle cx=\"1296.16\" cy=\"1870.42\" r=\"26.35\" style=\"fill:#1A476F\"/>\n\t<circle cx=\"1296.16\" cy=\"1870.42\" r=\"22.03\" style=\"fill:none;stroke:#1A476F;stroke-width:8.64\"/>\n\t<circle cx=\"1857.49\" cy=\"1099.43\" r=\"26.35\" style=\"fill:#1A476F\"/>\n\t<circle cx=\"1857.49\" cy=\"1099.43\" r=\"22.03\" style=\"fill:none;stroke:#1A476F;stroke-width:8.64\"/>\n\t<circle cx=\"948.67\" cy=\"2046.64\" r=\"26.35\" style=\"fill:#1A476F\"/>\n\t<circle cx=\"948.67\" cy=\"2046.64\" r=\"22.03\" style=\"fill:none;stroke:#1A476F;stroke-width:8.64\"/>\n\t<circle cx=\"1122.41\" cy=\"1779.58\" r=\"26.35\" style=\"fill:#1A476F\"/>\n\t<circle cx=\"1122.41\" cy=\"1779.58\" r=\"22.03\" style=\"fill:none;stroke:#1A476F;stroke-width:8.64\"/>\n\t<circle cx=\"1122.41\" cy=\"1919.30\" r=\"26.35\" style=\"fill:#1A476F\"/>\n\t<circle cx=\"1122.41\" cy=\"1919.30\" r=\"22.03\" style=\"fill:none;stroke:#1A476F;stroke-width:8.64\"/>\n\t<circle cx=\"1182.56\" cy=\"1410.18\" r=\"26.35\" style=\"fill:#1A476F\"/>\n\t<circle cx=\"1182.56\" cy=\"1410.18\" r=\"22.03\" style=\"fill:none;stroke:#1A476F;stroke-width:8.64\"/>\n\t<circle cx=\"955.35\" cy=\"1576.62\" r=\"26.35\" style=\"fill:#1A476F\"/>\n\t<circle cx=\"955.35\" cy=\"1576.62\" r=\"22.03\" style=\"fill:none;stroke:#1A476F;stroke-width:8.64\"/>\n\t<circle cx=\"1399.74\" cy=\"1523.66\" r=\"26.35\" style=\"fill:#1A476F\"/>\n\t<circle cx=\"1399.74\" cy=\"1523.66\" r=\"22.03\" style=\"fill:none;stroke:#1A476F;stroke-width:8.64\"/>\n\t<circle cx=\"955.35\" cy=\"1928.70\" r=\"26.35\" style=\"fill:#1A476F\"/>\n\t<circle cx=\"955.35\" cy=\"1928.70\" r=\"22.03\" style=\"fill:none;stroke:#1A476F;stroke-width:8.64\"/>\n\t<circle cx=\"1122.41\" cy=\"1880.19\" r=\"26.35\" style=\"fill:#1A476F\"/>\n\t<circle cx=\"1122.41\" cy=\"1880.19\" r=\"22.03\" style=\"fill:none;stroke:#1A476F;stroke-width:8.64\"/>\n\t<circle cx=\"1540.07\" cy=\"1613.13\" r=\"26.35\" style=\"fill:#1A476F\"/>\n\t<circle cx=\"1540.07\" cy=\"1613.13\" r=\"22.03\" style=\"fill:none;stroke:#1A476F;stroke-width:8.64\"/>\n\t<circle cx=\"871.82\" cy=\"2047.14\" r=\"26.35\" style=\"fill:#1A476F\"/>\n\t<circle cx=\"871.82\" cy=\"2047.14\" r=\"22.03\" style=\"fill:none;stroke:#1A476F;stroke-width:8.64\"/>\n\t<circle cx=\"1122.41\" cy=\"1966.08\" r=\"26.35\" style=\"fill:#1A476F\"/>\n\t<circle cx=\"1122.41\" cy=\"1966.08\" r=\"22.03\" style=\"fill:none;stroke:#1A476F;stroke-width:8.64\"/>\n\t<circle cx=\"1122.41\" cy=\"1796.04\" r=\"26.35\" style=\"fill:#1A476F\"/>\n\t<circle cx=\"1122.41\" cy=\"1796.04\" r=\"22.03\" style=\"fill:none;stroke:#1A476F;stroke-width:8.64\"/>\n\t<circle cx=\"1122.41\" cy=\"1713.74\" r=\"26.35\" style=\"fill:#1A476F\"/>\n\t<circle cx=\"1122.41\" cy=\"1713.74\" r=\"22.03\" style=\"fill:none;stroke:#1A476F;stroke-width:8.64\"/>\n\t<circle cx=\"1373.01\" cy=\"1840.10\" r=\"26.35\" style=\"fill:#1A476F\"/>\n\t<circle cx=\"1373.01\" cy=\"1840.10\" r=\"22.03\" style=\"fill:none;stroke:#1A476F;stroke-width:8.64\"/>\n\t<circle cx=\"1623.60\" cy=\"1648.28\" r=\"26.35\" style=\"fill:#1A476F\"/>\n\t<circle cx=\"1623.60\" cy=\"1648.28\" r=\"22.03\" style=\"fill:none;stroke:#1A476F;stroke-width:8.64\"/>\n\t<circle cx=\"2692.92\" cy=\"899.07\" r=\"26.35\" style=\"fill:#1A476F\"/>\n\t<circle cx=\"2692.92\" cy=\"899.07\" r=\"22.03\" style=\"fill:none;stroke:#1A476F;stroke-width:8.64\"/>\n\t<circle cx=\"2124.91\" cy=\"592.41\" r=\"26.35\" style=\"fill:#1A476F\"/>\n\t<circle cx=\"2124.91\" cy=\"592.41\" r=\"22.03\" style=\"fill:none;stroke:#1A476F;stroke-width:8.64\"/>\n\t<circle cx=\"2124.91\" cy=\"1221.82\" r=\"26.35\" style=\"fill:#1A476F\"/>\n\t<circle cx=\"2124.91\" cy=\"1221.82\" r=\"22.03\" style=\"fill:none;stroke:#1A476F;stroke-width:8.64\"/>\n\t<circle cx=\"1222.65\" cy=\"1694.56\" r=\"26.35\" style=\"fill:#1A476F\"/>\n\t<circle cx=\"1222.65\" cy=\"1694.56\" r=\"22.03\" style=\"fill:none;stroke:#1A476F;stroke-width:8.64\"/>\n\t<circle cx=\"955.35\" cy=\"2054.19\" r=\"26.35\" style=\"fill:#1A476F\"/>\n\t<circle cx=\"955.35\" cy=\"2054.19\" r=\"22.03\" style=\"fill:none;stroke:#1A476F;stroke-width:8.64\"/>\n\t<circle cx=\"908.57\" cy=\"1596.18\" r=\"26.35\" style=\"fill:#1A476F\"/>\n\t<circle cx=\"908.57\" cy=\"1596.18\" r=\"22.03\" style=\"fill:none;stroke:#1A476F;stroke-width:8.64\"/>\n\t<circle cx=\"998.79\" cy=\"1897.52\" r=\"26.35\" style=\"fill:#1A476F\"/>\n\t<circle cx=\"998.79\" cy=\"1897.52\" r=\"22.03\" style=\"fill:none;stroke:#1A476F;stroke-width:8.64\"/>\n\t<circle cx=\"1032.20\" cy=\"1990.58\" r=\"26.35\" style=\"fill:#1A476F\"/>\n\t<circle cx=\"1032.20\" cy=\"1990.58\" r=\"22.03\" style=\"fill:none;stroke:#1A476F;stroke-width:8.64\"/>\n\t<circle cx=\"1122.41\" cy=\"2091.56\" r=\"26.35\" style=\"fill:#1A476F\"/>\n\t<circle cx=\"1122.41\" cy=\"2091.56\" r=\"22.03\" style=\"fill:none;stroke:#1A476F;stroke-width:8.64\"/>\n\t<circle cx=\"1289.47\" cy=\"1799.63\" r=\"26.35\" style=\"fill:#1A476F\"/>\n\t<circle cx=\"1289.47\" cy=\"1799.63\" r=\"22.03\" style=\"fill:none;stroke:#1A476F;stroke-width:8.64\"/>\n\t<circle cx=\"1122.41\" cy=\"1841.46\" r=\"26.35\" style=\"fill:#1A476F\"/>\n\t<circle cx=\"1122.41\" cy=\"1841.46\" r=\"22.03\" style=\"fill:none;stroke:#1A476F;stroke-width:8.64\"/>\n\t<circle cx=\"1369.67\" cy=\"1657.56\" r=\"26.35\" style=\"fill:#1A476F\"/>\n\t<circle cx=\"1369.67\" cy=\"1657.56\" r=\"22.03\" style=\"fill:none;stroke:#1A476F;stroke-width:8.64\"/>\n\t<circle cx=\"1122.41\" cy=\"1333.08\" r=\"26.35\" style=\"fill:#1A476F\"/>\n\t<circle cx=\"1122.41\" cy=\"1333.08\" r=\"22.03\" style=\"fill:none;stroke:#1A476F;stroke-width:8.64\"/>\n\t<circle cx=\"1122.41\" cy=\"1545.93\" r=\"26.35\" style=\"fill:#1A476F\"/>\n\t<circle cx=\"1122.41\" cy=\"1545.93\" r=\"22.03\" style=\"fill:none;stroke:#1A476F;stroke-width:8.64\"/>\n\t<circle cx=\"2171.69\" cy=\"1097.20\" r=\"26.35\" style=\"fill:#1A476F\"/>\n\t<circle cx=\"2171.69\" cy=\"1097.20\" r=\"22.03\" style=\"fill:none;stroke:#1A476F;stroke-width:8.64\"/>\n\t<circle cx=\"2124.91\" cy=\"281.79\" r=\"26.35\" style=\"fill:#1A476F\"/>\n\t<circle cx=\"2124.91\" cy=\"281.79\" r=\"22.03\" style=\"fill:none;stroke:#1A476F;stroke-width:8.64\"/>\n\t<circle cx=\"1707.13\" cy=\"1313.15\" r=\"26.35\" style=\"fill:#1A476F\"/>\n\t<circle cx=\"1707.13\" cy=\"1313.15\" r=\"22.03\" style=\"fill:none;stroke:#1A476F;stroke-width:8.64\"/>\n\t<circle cx=\"1326.23\" cy=\"1829.82\" r=\"26.35\" style=\"fill:#1A476F\"/>\n\t<circle cx=\"1326.23\" cy=\"1829.82\" r=\"22.03\" style=\"fill:none;stroke:#1A476F;stroke-width:8.64\"/>\n\t<circle cx=\"1122.41\" cy=\"1691.84\" r=\"26.35\" style=\"fill:#1A476F\"/>\n\t<circle cx=\"1122.41\" cy=\"1691.84\" r=\"22.03\" style=\"fill:none;stroke:#1A476F;stroke-width:8.64\"/>\n\t<circle cx=\"1623.60\" cy=\"1468.83\" r=\"26.35\" style=\"fill:#1A476F\"/>\n\t<circle cx=\"1623.60\" cy=\"1468.83\" r=\"22.03\" style=\"fill:none;stroke:#1A476F;stroke-width:8.64\"/>\n\t<circle cx=\"1289.47\" cy=\"1862.37\" r=\"26.35\" style=\"fill:#1A476F\"/>\n\t<circle cx=\"1289.47\" cy=\"1862.37\" r=\"22.03\" style=\"fill:none;stroke:#1A476F;stroke-width:8.64\"/>\n\t<circle cx=\"1122.41\" cy=\"1704.34\" r=\"26.35\" style=\"fill:#1A476F\"/>\n\t<circle cx=\"1122.41\" cy=\"1704.34\" r=\"22.03\" style=\"fill:none;stroke:#1A476F;stroke-width:8.64\"/>\n\t<circle cx=\"1122.41\" cy=\"1811.14\" r=\"26.35\" style=\"fill:#1A476F\"/>\n\t<circle cx=\"1122.41\" cy=\"1811.14\" r=\"22.03\" style=\"fill:none;stroke:#1A476F;stroke-width:8.64\"/>\n\t<circle cx=\"1456.54\" cy=\"1646.55\" r=\"26.35\" style=\"fill:#1A476F\"/>\n\t<circle cx=\"1456.54\" cy=\"1646.55\" r=\"22.03\" style=\"fill:none;stroke:#1A476F;stroke-width:8.64\"/>\n\t<circle cx=\"1616.92\" cy=\"1334.44\" r=\"26.35\" style=\"fill:#1A476F\"/>\n\t<circle cx=\"1616.92\" cy=\"1334.44\" r=\"22.03\" style=\"fill:none;stroke:#1A476F;stroke-width:8.64\"/>\n\t<circle cx=\"1202.60\" cy=\"1501.88\" r=\"26.35\" style=\"fill:#1A476F\"/>\n\t<circle cx=\"1202.60\" cy=\"1501.88\" r=\"22.03\" style=\"fill:none;stroke:#1A476F;stroke-width:8.64\"/>\n\t<circle cx=\"1957.85\" cy=\"1014.41\" r=\"26.35\" style=\"fill:#1A476F\"/>\n\t<circle cx=\"1957.85\" cy=\"1014.41\" r=\"22.03\" style=\"fill:none;stroke:#1A476F;stroke-width:8.64\"/>\n\t<circle cx=\"992.10\" cy=\"1954.57\" r=\"26.35\" style=\"fill:#1A476F\"/>\n\t<circle cx=\"992.10\" cy=\"1954.57\" r=\"22.03\" style=\"fill:none;stroke:#1A476F;stroke-width:8.64\"/>\n\t<circle cx=\"1122.41\" cy=\"1952.71\" r=\"26.35\" style=\"fill:#1A476F\"/>\n\t<circle cx=\"1122.41\" cy=\"1952.71\" r=\"22.03\" style=\"fill:none;stroke:#1A476F;stroke-width:8.64\"/>\n\t<circle cx=\"3795.66\" cy=\"164.22\" r=\"26.35\" style=\"fill:#1A476F\"/>\n\t<circle cx=\"3795.66\" cy=\"164.22\" r=\"22.03\" style=\"fill:none;stroke:#1A476F;stroke-width:8.64\"/>\n\t<circle cx=\"1510.00\" cy=\"1722.16\" r=\"26.35\" style=\"fill:#1A476F\"/>\n\t<circle cx=\"1510.00\" cy=\"1722.16\" r=\"22.03\" style=\"fill:none;stroke:#1A476F;stroke-width:8.64\"/>\n\t<circle cx=\"2175.03\" cy=\"2103.20\" r=\"26.35\" style=\"fill:#1A476F\"/>\n\t<circle cx=\"2175.03\" cy=\"2103.20\" r=\"22.03\" style=\"fill:none;stroke:#1A476F;stroke-width:8.64\"/>\n\t<circle cx=\"1516.68\" cy=\"1008.22\" r=\"26.35\" style=\"fill:#1A476F\"/>\n\t<circle cx=\"1516.68\" cy=\"1008.22\" r=\"22.03\" style=\"fill:none;stroke:#1A476F;stroke-width:8.64\"/>\n\t<circle cx=\"1790.66\" cy=\"1677.24\" r=\"26.35\" style=\"fill:#1A476F\"/>\n\t<circle cx=\"1790.66\" cy=\"1677.24\" r=\"22.03\" style=\"fill:none;stroke:#1A476F;stroke-width:8.64\"/>\n\t<circle cx=\"1493.29\" cy=\"961.44\" r=\"26.35\" style=\"fill:#1A476F\"/>\n\t<circle cx=\"1493.29\" cy=\"961.44\" r=\"22.03\" style=\"fill:none;stroke:#1A476F;stroke-width:8.64\"/>\n\t<circle cx=\"1122.41\" cy=\"1629.59\" r=\"26.35\" style=\"fill:#1A476F\"/>\n\t<circle cx=\"1122.41\" cy=\"1629.59\" r=\"22.03\" style=\"fill:none;stroke:#1A476F;stroke-width:8.64\"/>\n\t<circle cx=\"1122.41\" cy=\"1781.31\" r=\"26.35\" style=\"fill:#1A476F\"/>\n\t<circle cx=\"1122.41\" cy=\"1781.31\" r=\"22.03\" style=\"fill:none;stroke:#1A476F;stroke-width:8.64\"/>\n\t<circle cx=\"1790.66\" cy=\"1998.62\" r=\"26.35\" style=\"fill:#1A476F\"/>\n\t<circle cx=\"1790.66\" cy=\"1998.62\" r=\"22.03\" style=\"fill:none;stroke:#1A476F;stroke-width:8.64\"/>\n\t<circle cx=\"1640.31\" cy=\"884.47\" r=\"26.35\" style=\"fill:#1A476F\"/>\n\t<circle cx=\"1640.31\" cy=\"884.47\" r=\"22.03\" style=\"fill:none;stroke:#1A476F;stroke-width:8.64\"/>\n\t<circle cx=\"1683.74\" cy=\"883.60\" r=\"26.35\" style=\"fill:#1A476F\"/>\n\t<circle cx=\"1683.74\" cy=\"883.60\" r=\"22.03\" style=\"fill:none;stroke:#1A476F;stroke-width:8.64\"/>\n\t<circle cx=\"2342.09\" cy=\"1387.40\" r=\"26.35\" style=\"fill:#1A476F\"/>\n\t<circle cx=\"2342.09\" cy=\"1387.40\" r=\"22.03\" style=\"fill:none;stroke:#1A476F;stroke-width:8.64\"/>\n\t<circle cx=\"1623.60\" cy=\"407.27\" r=\"26.35\" style=\"fill:#1A476F\"/>\n\t<circle cx=\"1623.60\" cy=\"407.27\" r=\"22.03\" style=\"fill:none;stroke:#1A476F;stroke-width:8.64\"/>\n\t<circle cx=\"2626.10\" cy=\"1394.58\" r=\"26.35\" style=\"fill:#1A476F\"/>\n\t<circle cx=\"2626.10\" cy=\"1394.58\" r=\"22.03\" style=\"fill:none;stroke:#1A476F;stroke-width:8.64\"/>\n\t<circle cx=\"1456.54\" cy=\"620.87\" r=\"26.35\" style=\"fill:#1A476F\"/>\n\t<circle cx=\"1456.54\" cy=\"620.87\" r=\"22.03\" style=\"fill:none;stroke:#1A476F;stroke-width:8.64\"/>\n\t<circle cx=\"2124.91\" cy=\"1504.97\" r=\"26.35\" style=\"fill:#1A476F\"/>\n\t<circle cx=\"2124.91\" cy=\"1504.97\" r=\"22.03\" style=\"fill:none;stroke:#1A476F;stroke-width:8.64\"/>\n\t<circle cx=\"1623.60\" cy=\"1495.57\" r=\"26.35\" style=\"fill:#1A476F\"/>\n\t<circle cx=\"1623.60\" cy=\"1495.57\" r=\"22.03\" style=\"fill:none;stroke:#1A476F;stroke-width:8.64\"/>\n\t<circle cx=\"1122.41\" cy=\"1070.10\" r=\"26.35\" style=\"fill:#1A476F\"/>\n\t<circle cx=\"1122.41\" cy=\"1070.10\" r=\"22.03\" style=\"fill:none;stroke:#1A476F;stroke-width:8.64\"/>\n\t<circle cx=\"1623.60\" cy=\"1617.96\" r=\"26.35\" style=\"fill:#1A476F\"/>\n\t<circle cx=\"1623.60\" cy=\"1617.96\" r=\"22.03\" style=\"fill:none;stroke:#1A476F;stroke-width:8.64\"/>\n\t<circle cx=\"1790.66\" cy=\"1397.68\" r=\"26.35\" style=\"fill:#1A476F\"/>\n\t<circle cx=\"1790.66\" cy=\"1397.68\" r=\"22.03\" style=\"fill:none;stroke:#1A476F;stroke-width:8.64\"/>\n\t<circle cx=\"955.35\" cy=\"1727.48\" r=\"26.35\" style=\"fill:#1A476F\"/>\n\t<circle cx=\"955.35\" cy=\"1727.48\" r=\"22.03\" style=\"fill:none;stroke:#1A476F;stroke-width:8.64\"/>\n\t<circle cx=\"1854.15\" cy=\"1544.08\" r=\"26.35\" style=\"fill:#1A476F\"/>\n\t<circle cx=\"1854.15\" cy=\"1544.08\" r=\"22.03\" style=\"fill:none;stroke:#1A476F;stroke-width:8.64\"/>\n\t<circle cx=\"1309.52\" cy=\"1159.94\" r=\"26.35\" style=\"fill:#1A476F\"/>\n\t<circle cx=\"1309.52\" cy=\"1159.94\" r=\"22.03\" style=\"fill:none;stroke:#1A476F;stroke-width:8.64\"/>\n\t<circle cx=\"1129.10\" cy=\"1736.89\" r=\"26.35\" style=\"fill:#1A476F\"/>\n\t<circle cx=\"1129.10\" cy=\"1736.89\" r=\"22.03\" style=\"fill:none;stroke:#1A476F;stroke-width:8.64\"/>\n\t<circle cx=\"1790.66\" cy=\"1687.88\" r=\"26.35\" style=\"fill:#1A476F\"/>\n\t<circle cx=\"1790.66\" cy=\"1687.88\" r=\"22.03\" style=\"fill:none;stroke:#1A476F;stroke-width:8.64\"/>\n\t<circle cx=\"935.30\" cy=\"2089.34\" r=\"26.35\" style=\"fill:#1A476F\"/>\n\t<circle cx=\"935.30\" cy=\"2089.34\" r=\"22.03\" style=\"fill:none;stroke:#1A476F;stroke-width:8.64\"/>\n\t<circle cx=\"1122.41\" cy=\"1965.71\" r=\"26.35\" style=\"fill:#1A476F\"/>\n\t<circle cx=\"1122.41\" cy=\"1965.71\" r=\"22.03\" style=\"fill:none;stroke:#1A476F;stroke-width:8.64\"/>\n\t<circle cx=\"2124.91\" cy=\"507.02\" r=\"26.35\" style=\"fill:#1A476F\"/>\n\t<circle cx=\"2124.91\" cy=\"507.02\" r=\"22.03\" style=\"fill:none;stroke:#1A476F;stroke-width:8.64\"/>\n\t<circle cx=\"1122.41\" cy=\"1847.27\" r=\"26.35\" style=\"fill:#1A476F\"/>\n\t<circle cx=\"1122.41\" cy=\"1847.27\" r=\"22.03\" style=\"fill:none;stroke:#1A476F;stroke-width:8.64\"/>\n\t<circle cx=\"1122.41\" cy=\"1824.50\" r=\"26.35\" style=\"fill:#1A476F\"/>\n\t<circle cx=\"1122.41\" cy=\"1824.50\" r=\"22.03\" style=\"fill:none;stroke:#1A476F;stroke-width:8.64\"/>\n\t<circle cx=\"1790.66\" cy=\"1593.08\" r=\"26.35\" style=\"fill:#1A476F\"/>\n\t<circle cx=\"1790.66\" cy=\"1593.08\" r=\"22.03\" style=\"fill:none;stroke:#1A476F;stroke-width:8.64\"/>\n\t<circle cx=\"1125.75\" cy=\"1858.78\" r=\"26.35\" style=\"fill:#1A476F\"/>\n\t<circle cx=\"1125.75\" cy=\"1858.78\" r=\"22.03\" style=\"fill:none;stroke:#1A476F;stroke-width:8.64\"/>\n\t<circle cx=\"1122.41\" cy=\"1847.27\" r=\"26.35\" style=\"fill:#1A476F\"/>\n\t<circle cx=\"1122.41\" cy=\"1847.27\" r=\"22.03\" style=\"fill:none;stroke:#1A476F;stroke-width:8.64\"/>\n\t<circle cx=\"1289.47\" cy=\"1695.92\" r=\"26.35\" style=\"fill:#1A476F\"/>\n\t<circle cx=\"1289.47\" cy=\"1695.92\" r=\"22.03\" style=\"fill:none;stroke:#1A476F;stroke-width:8.64\"/>\n\t<circle cx=\"1790.66\" cy=\"1512.02\" r=\"26.35\" style=\"fill:#1A476F\"/>\n\t<circle cx=\"1790.66\" cy=\"1512.02\" r=\"22.03\" style=\"fill:none;stroke:#1A476F;stroke-width:8.64\"/>\n\t<circle cx=\"1533.39\" cy=\"1692.83\" r=\"26.35\" style=\"fill:#1A476F\"/>\n\t<circle cx=\"1533.39\" cy=\"1692.83\" r=\"22.03\" style=\"fill:none;stroke:#1A476F;stroke-width:8.64\"/>\n\t<circle cx=\"1593.53\" cy=\"1242.37\" r=\"26.35\" style=\"fill:#1A476F\"/>\n\t<circle cx=\"1593.53\" cy=\"1242.37\" r=\"22.03\" style=\"fill:none;stroke:#1A476F;stroke-width:8.64\"/>\n\t<circle cx=\"1456.54\" cy=\"701.93\" r=\"26.35\" style=\"fill:#1A476F\"/>\n\t<circle cx=\"1456.54\" cy=\"701.93\" r=\"22.03\" style=\"fill:none;stroke:#1A476F;stroke-width:8.64\"/>\n\t<circle cx=\"1132.44\" cy=\"1345.58\" r=\"26.35\" style=\"fill:#1A476F\"/>\n\t<circle cx=\"1132.44\" cy=\"1345.58\" r=\"22.03\" style=\"fill:none;stroke:#1A476F;stroke-width:8.64\"/>\n\t<circle cx=\"1199.26\" cy=\"1857.92\" r=\"26.35\" style=\"fill:#1A476F\"/>\n\t<circle cx=\"1199.26\" cy=\"1857.92\" r=\"22.03\" style=\"fill:none;stroke:#1A476F;stroke-width:8.64\"/>\n\t<circle cx=\"1122.41\" cy=\"1087.92\" r=\"26.35\" style=\"fill:#1A476F\"/>\n\t<circle cx=\"1122.41\" cy=\"1087.92\" r=\"22.03\" style=\"fill:none;stroke:#1A476F;stroke-width:8.64\"/>\n\t<circle cx=\"2178.37\" cy=\"1273.43\" r=\"26.35\" style=\"fill:#1A476F\"/>\n\t<circle cx=\"2178.37\" cy=\"1273.43\" r=\"22.03\" style=\"fill:none;stroke:#1A476F;stroke-width:8.64\"/>\n\t<circle cx=\"3461.54\" cy=\"274.61\" r=\"26.35\" style=\"fill:#1A476F\"/>\n\t<circle cx=\"3461.54\" cy=\"274.61\" r=\"22.03\" style=\"fill:none;stroke:#1A476F;stroke-width:8.64\"/>\n\t<circle cx=\"1289.47\" cy=\"1835.27\" r=\"26.35\" style=\"fill:#1A476F\"/>\n\t<circle cx=\"1289.47\" cy=\"1835.27\" r=\"22.03\" style=\"fill:none;stroke:#1A476F;stroke-width:8.64\"/>\n\t<circle cx=\"2626.10\" cy=\"1171.95\" r=\"26.35\" style=\"fill:#1A476F\"/>\n\t<circle cx=\"2626.10\" cy=\"1171.95\" r=\"22.03\" style=\"fill:none;stroke:#1A476F;stroke-width:8.64\"/>\n\t<circle cx=\"821.70\" cy=\"1851.73\" r=\"26.35\" style=\"fill:#1A476F\"/>\n\t<circle cx=\"821.70\" cy=\"1851.73\" r=\"22.03\" style=\"fill:none;stroke:#1A476F;stroke-width:8.64\"/>\n\t<circle cx=\"1456.54\" cy=\"1172.94\" r=\"26.35\" style=\"fill:#1A476F\"/>\n\t<circle cx=\"1456.54\" cy=\"1172.94\" r=\"22.03\" style=\"fill:none;stroke:#1A476F;stroke-width:8.64\"/>\n\t<circle cx=\"955.35\" cy=\"1910.02\" r=\"26.35\" style=\"fill:#1A476F\"/>\n\t<circle cx=\"955.35\" cy=\"1910.02\" r=\"22.03\" style=\"fill:none;stroke:#1A476F;stroke-width:8.64\"/>\n\t<circle cx=\"935.30\" cy=\"2081.42\" r=\"26.35\" style=\"fill:#1A476F\"/>\n\t<circle cx=\"935.30\" cy=\"2081.42\" r=\"22.03\" style=\"fill:none;stroke:#1A476F;stroke-width:8.64\"/>\n\t<circle cx=\"1486.61\" cy=\"1084.33\" r=\"26.35\" style=\"fill:#1A476F\"/>\n\t<circle cx=\"1486.61\" cy=\"1084.33\" r=\"22.03\" style=\"fill:none;stroke:#1A476F;stroke-width:8.64\"/>\n\t<circle cx=\"1189.24\" cy=\"1884.65\" r=\"26.35\" style=\"fill:#1A476F\"/>\n\t<circle cx=\"1189.24\" cy=\"1884.65\" r=\"22.03\" style=\"fill:none;stroke:#1A476F;stroke-width:8.64\"/>\n\t<circle cx=\"1616.92\" cy=\"1828.59\" r=\"26.35\" style=\"fill:#1A476F\"/>\n\t<circle cx=\"1616.92\" cy=\"1828.59\" r=\"22.03\" style=\"fill:none;stroke:#1A476F;stroke-width:8.64\"/>\n\t<circle cx=\"1095.68\" cy=\"2044.04\" r=\"26.35\" style=\"fill:#1A476F\"/>\n\t<circle cx=\"1095.68\" cy=\"2044.04\" r=\"22.03\" style=\"fill:none;stroke:#1A476F;stroke-width:8.64\"/>\n\t<circle cx=\"1456.54\" cy=\"1714.61\" r=\"26.35\" style=\"fill:#1A476F\"/>\n\t<circle cx=\"1456.54\" cy=\"1714.61\" r=\"22.03\" style=\"fill:none;stroke:#1A476F;stroke-width:8.64\"/>\n\t<circle cx=\"982.08\" cy=\"1828.59\" r=\"26.35\" style=\"fill:#1A476F\"/>\n\t<circle cx=\"982.08\" cy=\"1828.59\" r=\"22.03\" style=\"fill:none;stroke:#1A476F;stroke-width:8.64\"/>\n\t<circle cx=\"1289.47\" cy=\"1701.74\" r=\"26.35\" style=\"fill:#1A476F\"/>\n\t<circle cx=\"1289.47\" cy=\"1701.74\" r=\"22.03\" style=\"fill:none;stroke:#1A476F;stroke-width:8.64\"/>\n\t<circle cx=\"1122.41\" cy=\"1976.72\" r=\"26.35\" style=\"fill:#1A476F\"/>\n\t<circle cx=\"1122.41\" cy=\"1976.72\" r=\"22.03\" style=\"fill:none;stroke:#1A476F;stroke-width:8.64\"/>\n\t<circle cx=\"1456.54\" cy=\"1515.61\" r=\"26.35\" style=\"fill:#1A476F\"/>\n\t<circle cx=\"1456.54\" cy=\"1515.61\" r=\"22.03\" style=\"fill:none;stroke:#1A476F;stroke-width:8.64\"/>\n\t<circle cx=\"1362.98\" cy=\"1834.77\" r=\"26.35\" style=\"fill:#1A476F\"/>\n\t<circle cx=\"1362.98\" cy=\"1834.77\" r=\"22.03\" style=\"fill:none;stroke:#1A476F;stroke-width:8.64\"/>\n\t<circle cx=\"1416.44\" cy=\"1441.24\" r=\"26.35\" style=\"fill:#1A476F\"/>\n\t<circle cx=\"1416.44\" cy=\"1441.24\" r=\"22.03\" style=\"fill:none;stroke:#1A476F;stroke-width:8.64\"/>\n\t<circle cx=\"1122.41\" cy=\"1357.21\" r=\"26.35\" style=\"fill:#1A476F\"/>\n\t<circle cx=\"1122.41\" cy=\"1357.21\" r=\"22.03\" style=\"fill:none;stroke:#1A476F;stroke-width:8.64\"/>\n\t<circle cx=\"1456.54\" cy=\"1727.48\" r=\"26.35\" style=\"fill:#1A476F\"/>\n\t<circle cx=\"1456.54\" cy=\"1727.48\" r=\"22.03\" style=\"fill:none;stroke:#1A476F;stroke-width:8.64\"/>\n\t<circle cx=\"1586.85\" cy=\"1909.15\" r=\"26.35\" style=\"fill:#1A476F\"/>\n\t<circle cx=\"1586.85\" cy=\"1909.15\" r=\"22.03\" style=\"fill:none;stroke:#1A476F;stroke-width:8.64\"/>\n\t<circle cx=\"945.33\" cy=\"1946.52\" r=\"26.35\" style=\"fill:#1A476F\"/>\n\t<circle cx=\"945.33\" cy=\"1946.52\" r=\"22.03\" style=\"fill:none;stroke:#1A476F;stroke-width:8.64\"/>\n\t<circle cx=\"1456.54\" cy=\"1734.66\" r=\"26.35\" style=\"fill:#1A476F\"/>\n\t<circle cx=\"1456.54\" cy=\"1734.66\" r=\"22.03\" style=\"fill:none;stroke:#1A476F;stroke-width:8.64\"/>\n\t<circle cx=\"871.82\" cy=\"1977.71\" r=\"26.35\" style=\"fill:#1A476F\"/>\n\t<circle cx=\"871.82\" cy=\"1977.71\" r=\"22.03\" style=\"fill:none;stroke:#1A476F;stroke-width:8.64\"/>\n\t<circle cx=\"788.29\" cy=\"1865.09\" r=\"26.35\" style=\"fill:#1A476F\"/>\n\t<circle cx=\"788.29\" cy=\"1865.09\" r=\"22.03\" style=\"fill:none;stroke:#1A476F;stroke-width:8.64\"/>\n\t<circle cx=\"845.09\" cy=\"964.54\" r=\"26.35\" style=\"fill:#1A476F\"/>\n\t<circle cx=\"845.09\" cy=\"964.54\" r=\"22.03\" style=\"fill:none;stroke:#1A476F;stroke-width:8.64\"/>\n\t<circle cx=\"2014.65\" cy=\"831.01\" r=\"26.35\" style=\"fill:#1A476F\"/>\n\t<circle cx=\"2014.65\" cy=\"831.01\" r=\"22.03\" style=\"fill:none;stroke:#1A476F;stroke-width:8.64\"/>\n\t<circle cx=\"2432.31\" cy=\"1133.71\" r=\"26.35\" style=\"fill:#1A476F\"/>\n\t<circle cx=\"2432.31\" cy=\"1133.71\" r=\"22.03\" style=\"fill:none;stroke:#1A476F;stroke-width:8.64\"/>\n\t<circle cx=\"1122.41\" cy=\"1216.01\" r=\"26.35\" style=\"fill:#1A476F\"/>\n\t<circle cx=\"1122.41\" cy=\"1216.01\" r=\"22.03\" style=\"fill:none;stroke:#1A476F;stroke-width:8.64\"/>\n\t<circle cx=\"1122.41\" cy=\"1416.86\" r=\"26.35\" style=\"fill:#1A476F\"/>\n\t<circle cx=\"1122.41\" cy=\"1416.86\" r=\"22.03\" style=\"fill:none;stroke:#1A476F;stroke-width:8.64\"/>\n\t<circle cx=\"1038.88\" cy=\"1632.68\" r=\"26.35\" style=\"fill:#1A476F\"/>\n\t<circle cx=\"1038.88\" cy=\"1632.68\" r=\"22.03\" style=\"fill:none;stroke:#1A476F;stroke-width:8.64\"/>\n\t<circle cx=\"1456.54\" cy=\"1589.99\" r=\"26.35\" style=\"fill:#1A476F\"/>\n\t<circle cx=\"1456.54\" cy=\"1589.99\" r=\"22.03\" style=\"fill:none;stroke:#1A476F;stroke-width:8.64\"/>\n\t<line x1=\"390.80\" y1=\"2489.19\" x2=\"390.80\" y2=\"100.86\" style=\"stroke:#000000;stroke-width:5.76\"/>\n\t<line x1=\"390.80\" y1=\"2425.82\" x2=\"350.83\" y2=\"2425.82\" style=\"stroke:#000000;stroke-width:5.76\"/>\n\t<text x=\"300.72\" y=\"2425.82\" style=\"font-family:'Helvetica';font-size:99.99px;fill:#000000\" transform=\"rotate(-90 300.72,2425.82)\" text-anchor=\"middle\">0</text>\n\t<line x1=\"390.80\" y1=\"1980.68\" x2=\"350.83\" y2=\"1980.68\" style=\"stroke:#000000;stroke-width:5.76\"/>\n\t<text x=\"300.72\" y=\"1980.68\" style=\"font-family:'Helvetica';font-size:99.99px;fill:#000000\" transform=\"rotate(-90 300.72,1980.68)\" text-anchor=\"middle\">10</text>\n\t<line x1=\"390.80\" y1=\"1535.54\" x2=\"350.83\" y2=\"1535.54\" style=\"stroke:#000000;stroke-width:5.76\"/>\n\t<text x=\"300.72\" y=\"1535.54\" style=\"font-family:'Helvetica';font-size:99.99px;fill:#000000\" transform=\"rotate(-90 300.72,1535.54)\" text-anchor=\"middle\">20</text>\n\t<line x1=\"390.80\" y1=\"1090.52\" x2=\"350.83\" y2=\"1090.52\" style=\"stroke:#000000;stroke-width:5.76\"/>\n\t<text x=\"300.72\" y=\"1090.52\" style=\"font-family:'Helvetica';font-size:99.99px;fill:#000000\" transform=\"rotate(-90 300.72,1090.52)\" text-anchor=\"middle\">30</text>\n\t<line x1=\"390.80\" y1=\"645.38\" x2=\"350.83\" y2=\"645.38\" style=\"stroke:#000000;stroke-width:5.76\"/>\n\t<text x=\"300.72\" y=\"645.38\" style=\"font-family:'Helvetica';font-size:99.99px;fill:#000000\" transform=\"rotate(-90 300.72,645.38)\" text-anchor=\"middle\">40</text>\n\t<line x1=\"390.80\" y1=\"200.23\" x2=\"350.83\" y2=\"200.23\" style=\"stroke:#000000;stroke-width:5.76\"/>\n\t<text x=\"300.72\" y=\"200.23\" style=\"font-family:'Helvetica';font-size:99.99px;fill:#000000\" transform=\"rotate(-90 300.72,200.23)\" text-anchor=\"middle\">50</text>\n\t<text x=\"190.71\" y=\"1294.96\" style=\"font-family:'Helvetica';font-size:99.99px;fill:#000000\" transform=\"rotate(-90 190.71,1294.96)\" text-anchor=\"middle\">total_bill</text>\n\t<line x1=\"390.80\" y1=\"2489.19\" x2=\"3859.02\" y2=\"2489.19\" style=\"stroke:#000000;stroke-width:5.76\"/>\n\t<line x1=\"454.16\" y1=\"2489.19\" x2=\"454.16\" y2=\"2529.16\" style=\"stroke:#000000;stroke-width:5.76\"/>\n\t<text x=\"454.16\" y=\"2619.14\" style=\"font-family:'Helvetica';font-size:99.99px;fill:#000000\" text-anchor=\"middle\">0</text>\n\t<line x1=\"1122.41\" y1=\"2489.19\" x2=\"1122.41\" y2=\"2529.16\" style=\"stroke:#000000;stroke-width:5.76\"/>\n\t<text x=\"1122.41\" y=\"2619.14\" style=\"font-family:'Helvetica';font-size:99.99px;fill:#000000\" text-anchor=\"middle\">2</text>\n\t<line x1=\"1790.79\" y1=\"2489.19\" x2=\"1790.79\" y2=\"2529.16\" style=\"stroke:#000000;stroke-width:5.76\"/>\n\t<text x=\"1790.79\" y=\"2619.14\" style=\"font-family:'Helvetica';font-size:99.99px;fill:#000000\" text-anchor=\"middle\">4</text>\n\t<line x1=\"2459.04\" y1=\"2489.19\" x2=\"2459.04\" y2=\"2529.16\" style=\"stroke:#000000;stroke-width:5.76\"/>\n\t<text x=\"2459.04\" y=\"2619.14\" style=\"font-family:'Helvetica';font-size:99.99px;fill:#000000\" text-anchor=\"middle\">6</text>\n\t<line x1=\"3127.41\" y1=\"2489.19\" x2=\"3127.41\" y2=\"2529.16\" style=\"stroke:#000000;stroke-width:5.76\"/>\n\t<text x=\"3127.41\" y=\"2619.14\" style=\"font-family:'Helvetica';font-size:99.99px;fill:#000000\" text-anchor=\"middle\">8</text>\n\t<line x1=\"3795.66\" y1=\"2489.19\" x2=\"3795.66\" y2=\"2529.16\" style=\"stroke:#000000;stroke-width:5.76\"/>\n\t<text x=\"3795.66\" y=\"2619.14\" style=\"font-family:'Helvetica';font-size:99.99px;fill:#000000\" text-anchor=\"middle\">10</text>\n\t<text x=\"2124.91\" y=\"2729.16\" style=\"font-family:'Helvetica';font-size:99.99px;fill:#000000\" text-anchor=\"middle\">tip</text>\n</svg>",
      "text/plain": [
       "<IPython.core.display.SVG object>"
      ]
     },
     "metadata": {},
     "output_type": "display_data"
    }
   ],
   "source": [
    "%%stata\n",
    "twoway (scatter total_bill tip)"
   ]
  }
 ],
 "metadata": {
  "kernelspec": {
   "display_name": "Python 3.9.12 ('base')",
   "language": "python",
   "name": "python3"
  },
  "language_info": {
   "codemirror_mode": {
    "name": "ipython",
    "version": 3
   },
   "file_extension": ".py",
   "mimetype": "text/x-python",
   "name": "python",
   "nbconvert_exporter": "python",
   "pygments_lexer": "ipython3",
   "version": "3.9.12"
  },
  "orig_nbformat": 4,
  "vscode": {
   "interpreter": {
    "hash": "922a42498a9ff37f83fa860838bfd06374bb7e135ff46b3c730f7a7432abcc0a"
   }
  }
 },
 "nbformat": 4,
 "nbformat_minor": 2
}
